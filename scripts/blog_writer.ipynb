{
 "cells": [
  {
   "metadata": {
    "ExecuteTime": {
     "end_time": "2024-02-08T02:44:57.181173Z",
     "start_time": "2024-02-08T02:40:25.998020Z"
    }
   },
   "cell_type": "code",
   "id": "a7c322fd7d9a3c91",
   "source": [
    "from huggingface_hub import snapshot_download\n",
    "\n",
    "# compiled model id\n",
    "compiled_model_id = \"aws-neuron/Llama-2-7b-chat-hf-seqlen-2048-bs-2\"\n",
    "\n",
    "# save compiled model to local directory\n",
    "save_directory = \"model\"\n",
    "# Downloads our compiled model from the HuggingFace Hub\n",
    "# using the revision as neuron version reference\n",
    "# and makes sure we exlcude the symlink files and \"hidden\" files, like .DS_Store, .gitignore, etc.\n",
    "snapshot_download(compiled_model_id, revision=\"2.15.0\", local_dir=save_directory, local_dir_use_symlinks=False,\n",
    "                  allow_patterns=[\"[!.]*.*\"])"
   ],
   "outputs": [
    {
     "data": {
      "text/plain": [
       "Fetching 311 files:   0%|          | 0/311 [00:00<?, ?it/s]"
      ],
      "application/vnd.jupyter.widget-view+json": {
       "version_major": 2,
       "version_minor": 0,
       "model_id": "6a70f2fe0567466c891b5927c78fe974"
      }
     },
     "metadata": {},
     "output_type": "display_data"
    },
    {
     "data": {
      "text/plain": [
       "README.md:   0%|          | 0.00/2.38k [00:00<?, ?B/s]"
      ],
      "application/vnd.jupyter.widget-view+json": {
       "version_major": 2,
       "version_minor": 0,
       "model_id": "7074abd64c234014a1edcb4dd494dc15"
      }
     },
     "metadata": {},
     "output_type": "display_data"
    },
    {
     "data": {
      "text/plain": [
       "checkpoint/config.json:   0%|          | 0.00/661 [00:00<?, ?B/s]"
      ],
      "application/vnd.jupyter.widget-view+json": {
       "version_major": 2,
       "version_minor": 0,
       "model_id": "d5f327a28aca41efb120f1eb204112a1"
      }
     },
     "metadata": {},
     "output_type": "display_data"
    },
    {
     "data": {
      "text/plain": [
       "checkpoint/generation_config.json:   0%|          | 0.00/183 [00:00<?, ?B/s]"
      ],
      "application/vnd.jupyter.widget-view+json": {
       "version_major": 2,
       "version_minor": 0,
       "model_id": "800459eebbb74476a131a2feb4f2865e"
      }
     },
     "metadata": {},
     "output_type": "display_data"
    },
    {
     "data": {
      "text/plain": [
       "key_to_filename.json:   0%|          | 0.00/26.4k [00:00<?, ?B/s]"
      ],
      "application/vnd.jupyter.widget-view+json": {
       "version_major": 2,
       "version_minor": 0,
       "model_id": "2dacc1e6c2c640f498f3bff8ca20b1df"
      }
     },
     "metadata": {},
     "output_type": "display_data"
    },
    {
     "data": {
      "text/plain": [
       "(…)1.model.layers.0.self_attn.q_proj.weight:   0%|          | 0.00/67.1M [00:00<?, ?B/s]"
      ],
      "application/vnd.jupyter.widget-view+json": {
       "version_major": 2,
       "version_minor": 0,
       "model_id": "d03d10b3bbcf4df9acc1e19cdc13ce46"
      }
     },
     "metadata": {},
     "output_type": "display_data"
    },
    {
     "data": {
      "text/plain": [
       "(…).model.layers.11.self_attn.q_proj.weight:   0%|          | 0.00/67.1M [00:00<?, ?B/s]"
      ],
      "application/vnd.jupyter.widget-view+json": {
       "version_major": 2,
       "version_minor": 0,
       "model_id": "16ca4862a4ad4591bf6e16d34ba1dbe9"
      }
     },
     "metadata": {},
     "output_type": "display_data"
    },
    {
     "data": {
      "text/plain": [
       "(…)0.model.layers.1.self_attn.q_proj.weight:   0%|          | 0.00/67.1M [00:00<?, ?B/s]"
      ],
      "application/vnd.jupyter.widget-view+json": {
       "version_major": 2,
       "version_minor": 0,
       "model_id": "4a3404bfdae54561b507a0ed10634169"
      }
     },
     "metadata": {},
     "output_type": "display_data"
    },
    {
     "data": {
      "text/plain": [
       "p0.model.embed_tokens.weight:   0%|          | 0.00/524M [00:00<?, ?B/s]"
      ],
      "application/vnd.jupyter.widget-view+json": {
       "version_major": 2,
       "version_minor": 0,
       "model_id": "fb5c5792db9146b3b8cde48d7bd870b9"
      }
     },
     "metadata": {},
     "output_type": "display_data"
    },
    {
     "data": {
      "text/plain": [
       "(…).model.layers.11.self_attn.k_proj.weight:   0%|          | 0.00/67.1M [00:00<?, ?B/s]"
      ],
      "application/vnd.jupyter.widget-view+json": {
       "version_major": 2,
       "version_minor": 0,
       "model_id": "791d77d5d51e4b4792c64fd671c349b1"
      }
     },
     "metadata": {},
     "output_type": "display_data"
    },
    {
     "data": {
      "text/plain": [
       "(…)104.model.layers.11.mlp.gate_proj.weight:   0%|          | 0.00/180M [00:00<?, ?B/s]"
      ],
      "application/vnd.jupyter.widget-view+json": {
       "version_major": 2,
       "version_minor": 0,
       "model_id": "d18d82970aa6487eb83d64b7bbcbb9c6"
      }
     },
     "metadata": {},
     "output_type": "display_data"
    },
    {
     "data": {
      "text/plain": [
       "(…).model.layers.11.self_attn.v_proj.weight:   0%|          | 0.00/67.1M [00:00<?, ?B/s]"
      ],
      "application/vnd.jupyter.widget-view+json": {
       "version_major": 2,
       "version_minor": 0,
       "model_id": "d218993bbf3f4488affd288fea77a2ba"
      }
     },
     "metadata": {},
     "output_type": "display_data"
    },
    {
     "data": {
      "text/plain": [
       "(…).model.layers.11.self_attn.o_proj.weight:   0%|          | 0.00/67.1M [00:00<?, ?B/s]"
      ],
      "application/vnd.jupyter.widget-view+json": {
       "version_major": 2,
       "version_minor": 0,
       "model_id": "d70d3af54a8c4965aa5e7eab9802f134"
      }
     },
     "metadata": {},
     "output_type": "display_data"
    },
    {
     "data": {
      "text/plain": [
       "p105.model.layers.11.mlp.up_proj.weight:   0%|          | 0.00/180M [00:00<?, ?B/s]"
      ],
      "application/vnd.jupyter.widget-view+json": {
       "version_major": 2,
       "version_minor": 0,
       "model_id": "d4b4c7e935b94be98fa47055e02ffd75"
      }
     },
     "metadata": {},
     "output_type": "display_data"
    },
    {
     "data": {
      "text/plain": [
       "(…)106.model.layers.11.mlp.down_proj.weight:   0%|          | 0.00/180M [00:00<?, ?B/s]"
      ],
      "application/vnd.jupyter.widget-view+json": {
       "version_major": 2,
       "version_minor": 0,
       "model_id": "09573b1554d44aeda91724459df6e4b3"
      }
     },
     "metadata": {},
     "output_type": "display_data"
    },
    {
     "data": {
      "text/plain": [
       "(…)7.model.layers.11.input_layernorm.weight:   0%|          | 0.00/17.3k [00:00<?, ?B/s]"
      ],
      "application/vnd.jupyter.widget-view+json": {
       "version_major": 2,
       "version_minor": 0,
       "model_id": "ded869e56d754aaf877333bd36854c6d"
      }
     },
     "metadata": {},
     "output_type": "display_data"
    },
    {
     "data": {
      "text/plain": [
       "(…)ayers.11.post_attention_layernorm.weight:   0%|          | 0.00/17.3k [00:00<?, ?B/s]"
      ],
      "application/vnd.jupyter.widget-view+json": {
       "version_major": 2,
       "version_minor": 0,
       "model_id": "cd1aeaae086c44938e4c3b9f4af3df80"
      }
     },
     "metadata": {},
     "output_type": "display_data"
    },
    {
     "data": {
      "text/plain": [
       "(…).model.layers.12.self_attn.q_proj.weight:   0%|          | 0.00/67.1M [00:00<?, ?B/s]"
      ],
      "application/vnd.jupyter.widget-view+json": {
       "version_major": 2,
       "version_minor": 0,
       "model_id": "e1677fdd7c58456a83705d3b026a8ea3"
      }
     },
     "metadata": {},
     "output_type": "display_data"
    },
    {
     "data": {
      "text/plain": [
       "(…)1.model.layers.1.self_attn.k_proj.weight:   0%|          | 0.00/67.1M [00:00<?, ?B/s]"
      ],
      "application/vnd.jupyter.widget-view+json": {
       "version_major": 2,
       "version_minor": 0,
       "model_id": "6da0e8eddb6e4bee90f937135c625215"
      }
     },
     "metadata": {},
     "output_type": "display_data"
    },
    {
     "data": {
      "text/plain": [
       "(…).model.layers.12.self_attn.k_proj.weight:   0%|          | 0.00/67.1M [00:00<?, ?B/s]"
      ],
      "application/vnd.jupyter.widget-view+json": {
       "version_major": 2,
       "version_minor": 0,
       "model_id": "163a3bbc218a46418c91ba6cd58da1fc"
      }
     },
     "metadata": {},
     "output_type": "display_data"
    },
    {
     "data": {
      "text/plain": [
       "(…).model.layers.12.self_attn.v_proj.weight:   0%|          | 0.00/67.1M [00:00<?, ?B/s]"
      ],
      "application/vnd.jupyter.widget-view+json": {
       "version_major": 2,
       "version_minor": 0,
       "model_id": "a3fa5514fc534432a91a876992d57ff6"
      }
     },
     "metadata": {},
     "output_type": "display_data"
    },
    {
     "data": {
      "text/plain": [
       "(…)113.model.layers.12.mlp.gate_proj.weight:   0%|          | 0.00/180M [00:00<?, ?B/s]"
      ],
      "application/vnd.jupyter.widget-view+json": {
       "version_major": 2,
       "version_minor": 0,
       "model_id": "ec27129a4244495cb6769addc83b8b21"
      }
     },
     "metadata": {},
     "output_type": "display_data"
    },
    {
     "data": {
      "text/plain": [
       "(…).model.layers.12.self_attn.o_proj.weight:   0%|          | 0.00/67.1M [00:00<?, ?B/s]"
      ],
      "application/vnd.jupyter.widget-view+json": {
       "version_major": 2,
       "version_minor": 0,
       "model_id": "dc612575dd224b95b5fac354d3f9efaf"
      }
     },
     "metadata": {},
     "output_type": "display_data"
    },
    {
     "data": {
      "text/plain": [
       "p114.model.layers.12.mlp.up_proj.weight:   0%|          | 0.00/180M [00:00<?, ?B/s]"
      ],
      "application/vnd.jupyter.widget-view+json": {
       "version_major": 2,
       "version_minor": 0,
       "model_id": "cbcb4f41ddf2459283420944f3f9e0fe"
      }
     },
     "metadata": {},
     "output_type": "display_data"
    },
    {
     "data": {
      "text/plain": [
       "(…)115.model.layers.12.mlp.down_proj.weight:   0%|          | 0.00/180M [00:00<?, ?B/s]"
      ],
      "application/vnd.jupyter.widget-view+json": {
       "version_major": 2,
       "version_minor": 0,
       "model_id": "8ea7571319104028ace270ae5c56eba7"
      }
     },
     "metadata": {},
     "output_type": "display_data"
    },
    {
     "data": {
      "text/plain": [
       "(…)6.model.layers.12.input_layernorm.weight:   0%|          | 0.00/17.3k [00:00<?, ?B/s]"
      ],
      "application/vnd.jupyter.widget-view+json": {
       "version_major": 2,
       "version_minor": 0,
       "model_id": "866bd1c871e440de9c87281145ffe10f"
      }
     },
     "metadata": {},
     "output_type": "display_data"
    },
    {
     "data": {
      "text/plain": [
       "(…)ayers.12.post_attention_layernorm.weight:   0%|          | 0.00/17.3k [00:00<?, ?B/s]"
      ],
      "application/vnd.jupyter.widget-view+json": {
       "version_major": 2,
       "version_minor": 0,
       "model_id": "6e6a234d033d4805b730beb1cd87d484"
      }
     },
     "metadata": {},
     "output_type": "display_data"
    },
    {
     "data": {
      "text/plain": [
       "(…).model.layers.13.self_attn.q_proj.weight:   0%|          | 0.00/67.1M [00:00<?, ?B/s]"
      ],
      "application/vnd.jupyter.widget-view+json": {
       "version_major": 2,
       "version_minor": 0,
       "model_id": "3a7d042ee8ce4997a9a75da8a82f4abb"
      }
     },
     "metadata": {},
     "output_type": "display_data"
    },
    {
     "data": {
      "text/plain": [
       "(…)2.model.layers.1.self_attn.v_proj.weight:   0%|          | 0.00/67.1M [00:00<?, ?B/s]"
      ],
      "application/vnd.jupyter.widget-view+json": {
       "version_major": 2,
       "version_minor": 0,
       "model_id": "6ce479dc56ee401c90a464dcf089e29d"
      }
     },
     "metadata": {},
     "output_type": "display_data"
    },
    {
     "data": {
      "text/plain": [
       "(…).model.layers.13.self_attn.k_proj.weight:   0%|          | 0.00/67.1M [00:00<?, ?B/s]"
      ],
      "application/vnd.jupyter.widget-view+json": {
       "version_major": 2,
       "version_minor": 0,
       "model_id": "d8b366d44a7a47cea7c7625d01df7e8e"
      }
     },
     "metadata": {},
     "output_type": "display_data"
    },
    {
     "data": {
      "text/plain": [
       "(…).model.layers.13.self_attn.v_proj.weight:   0%|          | 0.00/67.1M [00:00<?, ?B/s]"
      ],
      "application/vnd.jupyter.widget-view+json": {
       "version_major": 2,
       "version_minor": 0,
       "model_id": "74bc61f8fdff46ae930956ce81cad919"
      }
     },
     "metadata": {},
     "output_type": "display_data"
    },
    {
     "data": {
      "text/plain": [
       "(…).model.layers.13.self_attn.o_proj.weight:   0%|          | 0.00/67.1M [00:00<?, ?B/s]"
      ],
      "application/vnd.jupyter.widget-view+json": {
       "version_major": 2,
       "version_minor": 0,
       "model_id": "2f7ec4c2a3fc4e968e1cf99e5b2d726f"
      }
     },
     "metadata": {},
     "output_type": "display_data"
    },
    {
     "data": {
      "text/plain": [
       "(…)122.model.layers.13.mlp.gate_proj.weight:   0%|          | 0.00/180M [00:00<?, ?B/s]"
      ],
      "application/vnd.jupyter.widget-view+json": {
       "version_major": 2,
       "version_minor": 0,
       "model_id": "77e8eb1cf8764015a660d2eaa5de60c7"
      }
     },
     "metadata": {},
     "output_type": "display_data"
    },
    {
     "data": {
      "text/plain": [
       "p123.model.layers.13.mlp.up_proj.weight:   0%|          | 0.00/180M [00:00<?, ?B/s]"
      ],
      "application/vnd.jupyter.widget-view+json": {
       "version_major": 2,
       "version_minor": 0,
       "model_id": "5005b00437694ff49ecce978de677245"
      }
     },
     "metadata": {},
     "output_type": "display_data"
    },
    {
     "data": {
      "text/plain": [
       "(…)124.model.layers.13.mlp.down_proj.weight:   0%|          | 0.00/180M [00:00<?, ?B/s]"
      ],
      "application/vnd.jupyter.widget-view+json": {
       "version_major": 2,
       "version_minor": 0,
       "model_id": "aeedb0afa1a44a51bbd90c9e43327d93"
      }
     },
     "metadata": {},
     "output_type": "display_data"
    },
    {
     "data": {
      "text/plain": [
       "(…)5.model.layers.13.input_layernorm.weight:   0%|          | 0.00/17.3k [00:00<?, ?B/s]"
      ],
      "application/vnd.jupyter.widget-view+json": {
       "version_major": 2,
       "version_minor": 0,
       "model_id": "a9379551242140c9b8837ac9209e90ee"
      }
     },
     "metadata": {},
     "output_type": "display_data"
    },
    {
     "data": {
      "text/plain": [
       "(…)ayers.13.post_attention_layernorm.weight:   0%|          | 0.00/17.3k [00:00<?, ?B/s]"
      ],
      "application/vnd.jupyter.widget-view+json": {
       "version_major": 2,
       "version_minor": 0,
       "model_id": "8b3da68a87814a3495cccedd71af0ed3"
      }
     },
     "metadata": {},
     "output_type": "display_data"
    },
    {
     "data": {
      "text/plain": [
       "(…).model.layers.14.self_attn.q_proj.weight:   0%|          | 0.00/67.1M [00:00<?, ?B/s]"
      ],
      "application/vnd.jupyter.widget-view+json": {
       "version_major": 2,
       "version_minor": 0,
       "model_id": "222d4d8f08bf41a38c245464ff10e623"
      }
     },
     "metadata": {},
     "output_type": "display_data"
    },
    {
     "data": {
      "text/plain": [
       "(…).model.layers.14.self_attn.k_proj.weight:   0%|          | 0.00/67.1M [00:00<?, ?B/s]"
      ],
      "application/vnd.jupyter.widget-view+json": {
       "version_major": 2,
       "version_minor": 0,
       "model_id": "7296234735e348b3a8960ff568d63928"
      }
     },
     "metadata": {},
     "output_type": "display_data"
    },
    {
     "data": {
      "text/plain": [
       "(…).model.layers.14.self_attn.v_proj.weight:   0%|          | 0.00/67.1M [00:00<?, ?B/s]"
      ],
      "application/vnd.jupyter.widget-view+json": {
       "version_major": 2,
       "version_minor": 0,
       "model_id": "dfd170be057341d6a1c1519372d31cf4"
      }
     },
     "metadata": {},
     "output_type": "display_data"
    },
    {
     "data": {
      "text/plain": [
       "(…)3.model.layers.1.self_attn.o_proj.weight:   0%|          | 0.00/67.1M [00:00<?, ?B/s]"
      ],
      "application/vnd.jupyter.widget-view+json": {
       "version_major": 2,
       "version_minor": 0,
       "model_id": "5104889f113940c4998bf05f8a61d574"
      }
     },
     "metadata": {},
     "output_type": "display_data"
    },
    {
     "data": {
      "text/plain": [
       "(…).model.layers.14.self_attn.o_proj.weight:   0%|          | 0.00/67.1M [00:00<?, ?B/s]"
      ],
      "application/vnd.jupyter.widget-view+json": {
       "version_major": 2,
       "version_minor": 0,
       "model_id": "15490f1d8c554cbb9c46c5c1e014d602"
      }
     },
     "metadata": {},
     "output_type": "display_data"
    },
    {
     "data": {
      "text/plain": [
       "(…)131.model.layers.14.mlp.gate_proj.weight:   0%|          | 0.00/180M [00:00<?, ?B/s]"
      ],
      "application/vnd.jupyter.widget-view+json": {
       "version_major": 2,
       "version_minor": 0,
       "model_id": "286443c04229461abb7ec29a2ce65919"
      }
     },
     "metadata": {},
     "output_type": "display_data"
    },
    {
     "data": {
      "text/plain": [
       "p132.model.layers.14.mlp.up_proj.weight:   0%|          | 0.00/180M [00:00<?, ?B/s]"
      ],
      "application/vnd.jupyter.widget-view+json": {
       "version_major": 2,
       "version_minor": 0,
       "model_id": "3895e55994fc4c21bd9f0d1f18ded33b"
      }
     },
     "metadata": {},
     "output_type": "display_data"
    },
    {
     "data": {
      "text/plain": [
       "(…)133.model.layers.14.mlp.down_proj.weight:   0%|          | 0.00/180M [00:00<?, ?B/s]"
      ],
      "application/vnd.jupyter.widget-view+json": {
       "version_major": 2,
       "version_minor": 0,
       "model_id": "86eb79db8cb7415a8a4d805876711236"
      }
     },
     "metadata": {},
     "output_type": "display_data"
    },
    {
     "data": {
      "text/plain": [
       "(…)4.model.layers.14.input_layernorm.weight:   0%|          | 0.00/17.3k [00:00<?, ?B/s]"
      ],
      "application/vnd.jupyter.widget-view+json": {
       "version_major": 2,
       "version_minor": 0,
       "model_id": "47f9ab0ad92e4c48a34300f5d5a6ddba"
      }
     },
     "metadata": {},
     "output_type": "display_data"
    },
    {
     "data": {
      "text/plain": [
       "(…)ayers.14.post_attention_layernorm.weight:   0%|          | 0.00/17.3k [00:00<?, ?B/s]"
      ],
      "application/vnd.jupyter.widget-view+json": {
       "version_major": 2,
       "version_minor": 0,
       "model_id": "4e0a4a0a4faf4de8a8f62eaf689b1e7b"
      }
     },
     "metadata": {},
     "output_type": "display_data"
    },
    {
     "data": {
      "text/plain": [
       "(…).model.layers.15.self_attn.q_proj.weight:   0%|          | 0.00/67.1M [00:00<?, ?B/s]"
      ],
      "application/vnd.jupyter.widget-view+json": {
       "version_major": 2,
       "version_minor": 0,
       "model_id": "9a6327e7ed5f4d98942f9d1f26321246"
      }
     },
     "metadata": {},
     "output_type": "display_data"
    },
    {
     "data": {
      "text/plain": [
       "(…).model.layers.15.self_attn.k_proj.weight:   0%|          | 0.00/67.1M [00:00<?, ?B/s]"
      ],
      "application/vnd.jupyter.widget-view+json": {
       "version_major": 2,
       "version_minor": 0,
       "model_id": "36ffeaaa942743618324eba603f5a003"
      }
     },
     "metadata": {},
     "output_type": "display_data"
    },
    {
     "data": {
      "text/plain": [
       "(…).model.layers.15.self_attn.v_proj.weight:   0%|          | 0.00/67.1M [00:00<?, ?B/s]"
      ],
      "application/vnd.jupyter.widget-view+json": {
       "version_major": 2,
       "version_minor": 0,
       "model_id": "fdc44cb576b3494b81d3bc93a0c3ecc8"
      }
     },
     "metadata": {},
     "output_type": "display_data"
    },
    {
     "data": {
      "text/plain": [
       "(…).model.layers.15.self_attn.o_proj.weight:   0%|          | 0.00/67.1M [00:00<?, ?B/s]"
      ],
      "application/vnd.jupyter.widget-view+json": {
       "version_major": 2,
       "version_minor": 0,
       "model_id": "6e7aee57c1b442f4ac8af4cc16748076"
      }
     },
     "metadata": {},
     "output_type": "display_data"
    },
    {
     "data": {
      "text/plain": [
       "p14.model.layers.1.mlp.gate_proj.weight:   0%|          | 0.00/180M [00:00<?, ?B/s]"
      ],
      "application/vnd.jupyter.widget-view+json": {
       "version_major": 2,
       "version_minor": 0,
       "model_id": "270bcd890ccb4a38b952ffc0183e0337"
      }
     },
     "metadata": {},
     "output_type": "display_data"
    },
    {
     "data": {
      "text/plain": [
       "(…)140.model.layers.15.mlp.gate_proj.weight:   0%|          | 0.00/180M [00:00<?, ?B/s]"
      ],
      "application/vnd.jupyter.widget-view+json": {
       "version_major": 2,
       "version_minor": 0,
       "model_id": "2ac839b500df4bc28a1273a5586cfd50"
      }
     },
     "metadata": {},
     "output_type": "display_data"
    },
    {
     "data": {
      "text/plain": [
       "p141.model.layers.15.mlp.up_proj.weight:   0%|          | 0.00/180M [00:00<?, ?B/s]"
      ],
      "application/vnd.jupyter.widget-view+json": {
       "version_major": 2,
       "version_minor": 0,
       "model_id": "25eb53fdcfdb4786b2b7a81af9920372"
      }
     },
     "metadata": {},
     "output_type": "display_data"
    },
    {
     "data": {
      "text/plain": [
       "(…)142.model.layers.15.mlp.down_proj.weight:   0%|          | 0.00/180M [00:00<?, ?B/s]"
      ],
      "application/vnd.jupyter.widget-view+json": {
       "version_major": 2,
       "version_minor": 0,
       "model_id": "37e9f0a0b02044c0bb4c1cccfd40a652"
      }
     },
     "metadata": {},
     "output_type": "display_data"
    },
    {
     "data": {
      "text/plain": [
       "(…)3.model.layers.15.input_layernorm.weight:   0%|          | 0.00/17.3k [00:00<?, ?B/s]"
      ],
      "application/vnd.jupyter.widget-view+json": {
       "version_major": 2,
       "version_minor": 0,
       "model_id": "5f615f9b47c04cf68e030f3739ce580f"
      }
     },
     "metadata": {},
     "output_type": "display_data"
    },
    {
     "data": {
      "text/plain": [
       "(…)ayers.15.post_attention_layernorm.weight:   0%|          | 0.00/17.3k [00:00<?, ?B/s]"
      ],
      "application/vnd.jupyter.widget-view+json": {
       "version_major": 2,
       "version_minor": 0,
       "model_id": "9753fe93dca54280836313c37208844b"
      }
     },
     "metadata": {},
     "output_type": "display_data"
    },
    {
     "data": {
      "text/plain": [
       "(…).model.layers.16.self_attn.q_proj.weight:   0%|          | 0.00/67.1M [00:00<?, ?B/s]"
      ],
      "application/vnd.jupyter.widget-view+json": {
       "version_major": 2,
       "version_minor": 0,
       "model_id": "2fb810e230824042a6d199b43ac30fe8"
      }
     },
     "metadata": {},
     "output_type": "display_data"
    },
    {
     "data": {
      "text/plain": [
       "(…).model.layers.16.self_attn.k_proj.weight:   0%|          | 0.00/67.1M [00:00<?, ?B/s]"
      ],
      "application/vnd.jupyter.widget-view+json": {
       "version_major": 2,
       "version_minor": 0,
       "model_id": "747ed1c6c5634b8480269e1d2e02464b"
      }
     },
     "metadata": {},
     "output_type": "display_data"
    },
    {
     "data": {
      "text/plain": [
       "(…).model.layers.16.self_attn.v_proj.weight:   0%|          | 0.00/67.1M [00:00<?, ?B/s]"
      ],
      "application/vnd.jupyter.widget-view+json": {
       "version_major": 2,
       "version_minor": 0,
       "model_id": "a91b3280712e4f8e8c2237307d0c130d"
      }
     },
     "metadata": {},
     "output_type": "display_data"
    },
    {
     "data": {
      "text/plain": [
       "(…).model.layers.16.self_attn.o_proj.weight:   0%|          | 0.00/67.1M [00:00<?, ?B/s]"
      ],
      "application/vnd.jupyter.widget-view+json": {
       "version_major": 2,
       "version_minor": 0,
       "model_id": "4ed6fe553ef34eaeb444ad0cd8f5388b"
      }
     },
     "metadata": {},
     "output_type": "display_data"
    },
    {
     "data": {
      "text/plain": [
       "(…)149.model.layers.16.mlp.gate_proj.weight:   0%|          | 0.00/180M [00:00<?, ?B/s]"
      ],
      "application/vnd.jupyter.widget-view+json": {
       "version_major": 2,
       "version_minor": 0,
       "model_id": "351c1945c44747f98705db8c6a26145a"
      }
     },
     "metadata": {},
     "output_type": "display_data"
    },
    {
     "data": {
      "text/plain": [
       "p15.model.layers.1.mlp.up_proj.weight:   0%|          | 0.00/180M [00:00<?, ?B/s]"
      ],
      "application/vnd.jupyter.widget-view+json": {
       "version_major": 2,
       "version_minor": 0,
       "model_id": "35a8554dc5bd4ca886cdbca4619d7b7c"
      }
     },
     "metadata": {},
     "output_type": "display_data"
    },
    {
     "data": {
      "text/plain": [
       "p150.model.layers.16.mlp.up_proj.weight:   0%|          | 0.00/180M [00:00<?, ?B/s]"
      ],
      "application/vnd.jupyter.widget-view+json": {
       "version_major": 2,
       "version_minor": 0,
       "model_id": "0b69d73ca26f498da2932360e008e167"
      }
     },
     "metadata": {},
     "output_type": "display_data"
    },
    {
     "data": {
      "text/plain": [
       "(…)151.model.layers.16.mlp.down_proj.weight:   0%|          | 0.00/180M [00:00<?, ?B/s]"
      ],
      "application/vnd.jupyter.widget-view+json": {
       "version_major": 2,
       "version_minor": 0,
       "model_id": "8ccc5e677eaf4f30998cd1634dacfd24"
      }
     },
     "metadata": {},
     "output_type": "display_data"
    },
    {
     "data": {
      "text/plain": [
       "(…)2.model.layers.16.input_layernorm.weight:   0%|          | 0.00/17.3k [00:00<?, ?B/s]"
      ],
      "application/vnd.jupyter.widget-view+json": {
       "version_major": 2,
       "version_minor": 0,
       "model_id": "e83d95bd595140e999d3325016526ace"
      }
     },
     "metadata": {},
     "output_type": "display_data"
    },
    {
     "data": {
      "text/plain": [
       "(…)ayers.16.post_attention_layernorm.weight:   0%|          | 0.00/17.3k [00:00<?, ?B/s]"
      ],
      "application/vnd.jupyter.widget-view+json": {
       "version_major": 2,
       "version_minor": 0,
       "model_id": "17f3b4d46f6345cf910f43b36c26b6dc"
      }
     },
     "metadata": {},
     "output_type": "display_data"
    },
    {
     "data": {
      "text/plain": [
       "(…).model.layers.17.self_attn.q_proj.weight:   0%|          | 0.00/67.1M [00:00<?, ?B/s]"
      ],
      "application/vnd.jupyter.widget-view+json": {
       "version_major": 2,
       "version_minor": 0,
       "model_id": "0d75c12ca6e5405f94b3218d71bb09ee"
      }
     },
     "metadata": {},
     "output_type": "display_data"
    },
    {
     "data": {
      "text/plain": [
       "(…).model.layers.17.self_attn.k_proj.weight:   0%|          | 0.00/67.1M [00:00<?, ?B/s]"
      ],
      "application/vnd.jupyter.widget-view+json": {
       "version_major": 2,
       "version_minor": 0,
       "model_id": "e2f924e8c5694702bd9af1209e1bf3cc"
      }
     },
     "metadata": {},
     "output_type": "display_data"
    },
    {
     "data": {
      "text/plain": [
       "(…).model.layers.17.self_attn.v_proj.weight:   0%|          | 0.00/67.1M [00:00<?, ?B/s]"
      ],
      "application/vnd.jupyter.widget-view+json": {
       "version_major": 2,
       "version_minor": 0,
       "model_id": "40f2219c4f3047f18445d79e07c36e6b"
      }
     },
     "metadata": {},
     "output_type": "display_data"
    },
    {
     "data": {
      "text/plain": [
       "(…).model.layers.17.self_attn.o_proj.weight:   0%|          | 0.00/67.1M [00:00<?, ?B/s]"
      ],
      "application/vnd.jupyter.widget-view+json": {
       "version_major": 2,
       "version_minor": 0,
       "model_id": "f805a00d3bfe48aa87418017b23b6024"
      }
     },
     "metadata": {},
     "output_type": "display_data"
    },
    {
     "data": {
      "text/plain": [
       "(…)158.model.layers.17.mlp.gate_proj.weight:   0%|          | 0.00/180M [00:00<?, ?B/s]"
      ],
      "application/vnd.jupyter.widget-view+json": {
       "version_major": 2,
       "version_minor": 0,
       "model_id": "e1070e62daad4ab189c624f64935e9b1"
      }
     },
     "metadata": {},
     "output_type": "display_data"
    },
    {
     "data": {
      "text/plain": [
       "p159.model.layers.17.mlp.up_proj.weight:   0%|          | 0.00/180M [00:00<?, ?B/s]"
      ],
      "application/vnd.jupyter.widget-view+json": {
       "version_major": 2,
       "version_minor": 0,
       "model_id": "7276e50515764d3897a2a48e2141b4b8"
      }
     },
     "metadata": {},
     "output_type": "display_data"
    },
    {
     "data": {
      "text/plain": [
       "p16.model.layers.1.mlp.down_proj.weight:   0%|          | 0.00/180M [00:00<?, ?B/s]"
      ],
      "application/vnd.jupyter.widget-view+json": {
       "version_major": 2,
       "version_minor": 0,
       "model_id": "ce0158d8239c4fd9a254484d9663e187"
      }
     },
     "metadata": {},
     "output_type": "display_data"
    },
    {
     "data": {
      "text/plain": [
       "(…)160.model.layers.17.mlp.down_proj.weight:   0%|          | 0.00/180M [00:00<?, ?B/s]"
      ],
      "application/vnd.jupyter.widget-view+json": {
       "version_major": 2,
       "version_minor": 0,
       "model_id": "7e889b29fdc14fe4863130e985ce65de"
      }
     },
     "metadata": {},
     "output_type": "display_data"
    },
    {
     "data": {
      "text/plain": [
       "(…)1.model.layers.17.input_layernorm.weight:   0%|          | 0.00/17.3k [00:00<?, ?B/s]"
      ],
      "application/vnd.jupyter.widget-view+json": {
       "version_major": 2,
       "version_minor": 0,
       "model_id": "6a69703892dc4475b338b58ea44285c7"
      }
     },
     "metadata": {},
     "output_type": "display_data"
    },
    {
     "data": {
      "text/plain": [
       "(…)ayers.17.post_attention_layernorm.weight:   0%|          | 0.00/17.3k [00:00<?, ?B/s]"
      ],
      "application/vnd.jupyter.widget-view+json": {
       "version_major": 2,
       "version_minor": 0,
       "model_id": "81fb706b545c46b0bcd087819fa29b87"
      }
     },
     "metadata": {},
     "output_type": "display_data"
    },
    {
     "data": {
      "text/plain": [
       "(…).model.layers.18.self_attn.k_proj.weight:   0%|          | 0.00/67.1M [00:00<?, ?B/s]"
      ],
      "application/vnd.jupyter.widget-view+json": {
       "version_major": 2,
       "version_minor": 0,
       "model_id": "dcaa29263fac4eb8a1e8e367c3435f7e"
      }
     },
     "metadata": {},
     "output_type": "display_data"
    },
    {
     "data": {
      "text/plain": [
       "(…).model.layers.18.self_attn.q_proj.weight:   0%|          | 0.00/67.1M [00:00<?, ?B/s]"
      ],
      "application/vnd.jupyter.widget-view+json": {
       "version_major": 2,
       "version_minor": 0,
       "model_id": "dd45dbf597124f47836b954e58fcb5f5"
      }
     },
     "metadata": {},
     "output_type": "display_data"
    },
    {
     "data": {
      "text/plain": [
       "(…).model.layers.18.self_attn.v_proj.weight:   0%|          | 0.00/67.1M [00:00<?, ?B/s]"
      ],
      "application/vnd.jupyter.widget-view+json": {
       "version_major": 2,
       "version_minor": 0,
       "model_id": "9665f408990a4ac380d1d3d8029fdbfa"
      }
     },
     "metadata": {},
     "output_type": "display_data"
    },
    {
     "data": {
      "text/plain": [
       "(…).model.layers.18.self_attn.o_proj.weight:   0%|          | 0.00/67.1M [00:00<?, ?B/s]"
      ],
      "application/vnd.jupyter.widget-view+json": {
       "version_major": 2,
       "version_minor": 0,
       "model_id": "5759c6832eeb4928ac66f5827e0b8cdc"
      }
     },
     "metadata": {},
     "output_type": "display_data"
    },
    {
     "data": {
      "text/plain": [
       "(…)167.model.layers.18.mlp.gate_proj.weight:   0%|          | 0.00/180M [00:00<?, ?B/s]"
      ],
      "application/vnd.jupyter.widget-view+json": {
       "version_major": 2,
       "version_minor": 0,
       "model_id": "c2d6067757464acdb84628bd04854c58"
      }
     },
     "metadata": {},
     "output_type": "display_data"
    },
    {
     "data": {
      "text/plain": [
       "(…)169.model.layers.18.mlp.down_proj.weight:   0%|          | 0.00/180M [00:00<?, ?B/s]"
      ],
      "application/vnd.jupyter.widget-view+json": {
       "version_major": 2,
       "version_minor": 0,
       "model_id": "63a7858da6304defa44a30eec011cf04"
      }
     },
     "metadata": {},
     "output_type": "display_data"
    },
    {
     "data": {
      "text/plain": [
       "p168.model.layers.18.mlp.up_proj.weight:   0%|          | 0.00/180M [00:00<?, ?B/s]"
      ],
      "application/vnd.jupyter.widget-view+json": {
       "version_major": 2,
       "version_minor": 0,
       "model_id": "5ffec68f6ac64e85a49a01d0a2700a3b"
      }
     },
     "metadata": {},
     "output_type": "display_data"
    },
    {
     "data": {
      "text/plain": [
       "(…)17.model.layers.1.input_layernorm.weight:   0%|          | 0.00/17.3k [00:00<?, ?B/s]"
      ],
      "application/vnd.jupyter.widget-view+json": {
       "version_major": 2,
       "version_minor": 0,
       "model_id": "224c55825b654681ab5a7ba9420b1ed2"
      }
     },
     "metadata": {},
     "output_type": "display_data"
    },
    {
     "data": {
      "text/plain": [
       "(…)0.model.layers.18.input_layernorm.weight:   0%|          | 0.00/17.3k [00:00<?, ?B/s]"
      ],
      "application/vnd.jupyter.widget-view+json": {
       "version_major": 2,
       "version_minor": 0,
       "model_id": "c3f8d3744f67480c9d9382323f500bc7"
      }
     },
     "metadata": {},
     "output_type": "display_data"
    },
    {
     "data": {
      "text/plain": [
       "(…)ayers.18.post_attention_layernorm.weight:   0%|          | 0.00/17.3k [00:00<?, ?B/s]"
      ],
      "application/vnd.jupyter.widget-view+json": {
       "version_major": 2,
       "version_minor": 0,
       "model_id": "7ba8c5a749bd454f8012588ae8dd55d9"
      }
     },
     "metadata": {},
     "output_type": "display_data"
    },
    {
     "data": {
      "text/plain": [
       "(…).model.layers.19.self_attn.q_proj.weight:   0%|          | 0.00/67.1M [00:00<?, ?B/s]"
      ],
      "application/vnd.jupyter.widget-view+json": {
       "version_major": 2,
       "version_minor": 0,
       "model_id": "1195124574934daf879a284b573a4501"
      }
     },
     "metadata": {},
     "output_type": "display_data"
    },
    {
     "data": {
      "text/plain": [
       "(…).model.layers.19.self_attn.k_proj.weight:   0%|          | 0.00/67.1M [00:00<?, ?B/s]"
      ],
      "application/vnd.jupyter.widget-view+json": {
       "version_major": 2,
       "version_minor": 0,
       "model_id": "610e2ddb84a141898dbec305e88369e3"
      }
     },
     "metadata": {},
     "output_type": "display_data"
    },
    {
     "data": {
      "text/plain": [
       "(…).model.layers.19.self_attn.v_proj.weight:   0%|          | 0.00/67.1M [00:00<?, ?B/s]"
      ],
      "application/vnd.jupyter.widget-view+json": {
       "version_major": 2,
       "version_minor": 0,
       "model_id": "4b44f7a05e7c416aa09362bdab3281c4"
      }
     },
     "metadata": {},
     "output_type": "display_data"
    },
    {
     "data": {
      "text/plain": [
       "(…).model.layers.19.self_attn.o_proj.weight:   0%|          | 0.00/67.1M [00:00<?, ?B/s]"
      ],
      "application/vnd.jupyter.widget-view+json": {
       "version_major": 2,
       "version_minor": 0,
       "model_id": "ab64db157368417abb82b7ad94dc92ef"
      }
     },
     "metadata": {},
     "output_type": "display_data"
    },
    {
     "data": {
      "text/plain": [
       "(…)176.model.layers.19.mlp.gate_proj.weight:   0%|          | 0.00/180M [00:00<?, ?B/s]"
      ],
      "application/vnd.jupyter.widget-view+json": {
       "version_major": 2,
       "version_minor": 0,
       "model_id": "4b2dd3eedd8d426ba421820964034fd9"
      }
     },
     "metadata": {},
     "output_type": "display_data"
    },
    {
     "data": {
      "text/plain": [
       "p177.model.layers.19.mlp.up_proj.weight:   0%|          | 0.00/180M [00:00<?, ?B/s]"
      ],
      "application/vnd.jupyter.widget-view+json": {
       "version_major": 2,
       "version_minor": 0,
       "model_id": "252dcfb3a3b24b5e989211b767181856"
      }
     },
     "metadata": {},
     "output_type": "display_data"
    },
    {
     "data": {
      "text/plain": [
       "(…)178.model.layers.19.mlp.down_proj.weight:   0%|          | 0.00/180M [00:00<?, ?B/s]"
      ],
      "application/vnd.jupyter.widget-view+json": {
       "version_major": 2,
       "version_minor": 0,
       "model_id": "b56f784ea052454580d5e95f9cd0a0f3"
      }
     },
     "metadata": {},
     "output_type": "display_data"
    },
    {
     "data": {
      "text/plain": [
       "(…)9.model.layers.19.input_layernorm.weight:   0%|          | 0.00/17.3k [00:00<?, ?B/s]"
      ],
      "application/vnd.jupyter.widget-view+json": {
       "version_major": 2,
       "version_minor": 0,
       "model_id": "0de17105ffa34aaaa8eca05f7bdf1aba"
      }
     },
     "metadata": {},
     "output_type": "display_data"
    },
    {
     "data": {
      "text/plain": [
       "(…)ayers.19.post_attention_layernorm.weight:   0%|          | 0.00/17.3k [00:00<?, ?B/s]"
      ],
      "application/vnd.jupyter.widget-view+json": {
       "version_major": 2,
       "version_minor": 0,
       "model_id": "e03c3cfcc25a4cb78a00db023aa04876"
      }
     },
     "metadata": {},
     "output_type": "display_data"
    },
    {
     "data": {
      "text/plain": [
       "(…)layers.1.post_attention_layernorm.weight:   0%|          | 0.00/17.3k [00:00<?, ?B/s]"
      ],
      "application/vnd.jupyter.widget-view+json": {
       "version_major": 2,
       "version_minor": 0,
       "model_id": "6bc984a6332246d094f5fcb1f36cc1fb"
      }
     },
     "metadata": {},
     "output_type": "display_data"
    },
    {
     "data": {
      "text/plain": [
       "(…).model.layers.20.self_attn.k_proj.weight:   0%|          | 0.00/67.1M [00:00<?, ?B/s]"
      ],
      "application/vnd.jupyter.widget-view+json": {
       "version_major": 2,
       "version_minor": 0,
       "model_id": "831132dbc89d4805901f7b56bbdbba5e"
      }
     },
     "metadata": {},
     "output_type": "display_data"
    },
    {
     "data": {
      "text/plain": [
       "(…).model.layers.20.self_attn.q_proj.weight:   0%|          | 0.00/67.1M [00:00<?, ?B/s]"
      ],
      "application/vnd.jupyter.widget-view+json": {
       "version_major": 2,
       "version_minor": 0,
       "model_id": "8c44fc1fa5504c95a0af1459ad39c80b"
      }
     },
     "metadata": {},
     "output_type": "display_data"
    },
    {
     "data": {
      "text/plain": [
       "(…).model.layers.20.self_attn.v_proj.weight:   0%|          | 0.00/67.1M [00:00<?, ?B/s]"
      ],
      "application/vnd.jupyter.widget-view+json": {
       "version_major": 2,
       "version_minor": 0,
       "model_id": "e9c3d72ef4f8490e9a2cee4f127a3145"
      }
     },
     "metadata": {},
     "output_type": "display_data"
    },
    {
     "data": {
      "text/plain": [
       "(…).model.layers.20.self_attn.o_proj.weight:   0%|          | 0.00/67.1M [00:00<?, ?B/s]"
      ],
      "application/vnd.jupyter.widget-view+json": {
       "version_major": 2,
       "version_minor": 0,
       "model_id": "5a0582484899412d8aa884231b688daa"
      }
     },
     "metadata": {},
     "output_type": "display_data"
    },
    {
     "data": {
      "text/plain": [
       "(…)185.model.layers.20.mlp.gate_proj.weight:   0%|          | 0.00/180M [00:00<?, ?B/s]"
      ],
      "application/vnd.jupyter.widget-view+json": {
       "version_major": 2,
       "version_minor": 0,
       "model_id": "2573bae19c9c420bb47f78efdf230a1d"
      }
     },
     "metadata": {},
     "output_type": "display_data"
    },
    {
     "data": {
      "text/plain": [
       "p186.model.layers.20.mlp.up_proj.weight:   0%|          | 0.00/180M [00:00<?, ?B/s]"
      ],
      "application/vnd.jupyter.widget-view+json": {
       "version_major": 2,
       "version_minor": 0,
       "model_id": "78a8a90c766d4b5d8b80809101789330"
      }
     },
     "metadata": {},
     "output_type": "display_data"
    },
    {
     "data": {
      "text/plain": [
       "(…)187.model.layers.20.mlp.down_proj.weight:   0%|          | 0.00/180M [00:00<?, ?B/s]"
      ],
      "application/vnd.jupyter.widget-view+json": {
       "version_major": 2,
       "version_minor": 0,
       "model_id": "9e7e6fe681a648f79adc8af5725c31ad"
      }
     },
     "metadata": {},
     "output_type": "display_data"
    },
    {
     "data": {
      "text/plain": [
       "(…)8.model.layers.20.input_layernorm.weight:   0%|          | 0.00/17.3k [00:00<?, ?B/s]"
      ],
      "application/vnd.jupyter.widget-view+json": {
       "version_major": 2,
       "version_minor": 0,
       "model_id": "03ac7e71c3084cd092aa6008fb95d28c"
      }
     },
     "metadata": {},
     "output_type": "display_data"
    },
    {
     "data": {
      "text/plain": [
       "(…)ayers.20.post_attention_layernorm.weight:   0%|          | 0.00/17.3k [00:00<?, ?B/s]"
      ],
      "application/vnd.jupyter.widget-view+json": {
       "version_major": 2,
       "version_minor": 0,
       "model_id": "c88a8e0f965149aab2f7811db958711a"
      }
     },
     "metadata": {},
     "output_type": "display_data"
    },
    {
     "data": {
      "text/plain": [
       "(…)9.model.layers.2.self_attn.q_proj.weight:   0%|          | 0.00/67.1M [00:00<?, ?B/s]"
      ],
      "application/vnd.jupyter.widget-view+json": {
       "version_major": 2,
       "version_minor": 0,
       "model_id": "4992abafba9f4826b431dfc3f0003bee"
      }
     },
     "metadata": {},
     "output_type": "display_data"
    },
    {
     "data": {
      "text/plain": [
       "(…).model.layers.21.self_attn.q_proj.weight:   0%|          | 0.00/67.1M [00:00<?, ?B/s]"
      ],
      "application/vnd.jupyter.widget-view+json": {
       "version_major": 2,
       "version_minor": 0,
       "model_id": "bb728b36181542c3ad3055d8815d4961"
      }
     },
     "metadata": {},
     "output_type": "display_data"
    },
    {
     "data": {
      "text/plain": [
       "(…).model.layers.21.self_attn.k_proj.weight:   0%|          | 0.00/67.1M [00:00<?, ?B/s]"
      ],
      "application/vnd.jupyter.widget-view+json": {
       "version_major": 2,
       "version_minor": 0,
       "model_id": "be790cba2d9b4af1bff15e802aec4016"
      }
     },
     "metadata": {},
     "output_type": "display_data"
    },
    {
     "data": {
      "text/plain": [
       "(…).model.layers.21.self_attn.v_proj.weight:   0%|          | 0.00/67.1M [00:00<?, ?B/s]"
      ],
      "application/vnd.jupyter.widget-view+json": {
       "version_major": 2,
       "version_minor": 0,
       "model_id": "7a28c8bbc6ff4e1d840725782f7e7616"
      }
     },
     "metadata": {},
     "output_type": "display_data"
    },
    {
     "data": {
      "text/plain": [
       "(…).model.layers.21.self_attn.o_proj.weight:   0%|          | 0.00/67.1M [00:00<?, ?B/s]"
      ],
      "application/vnd.jupyter.widget-view+json": {
       "version_major": 2,
       "version_minor": 0,
       "model_id": "ad5677215d5144358eb0335a6edb6e66"
      }
     },
     "metadata": {},
     "output_type": "display_data"
    },
    {
     "data": {
      "text/plain": [
       "(…)194.model.layers.21.mlp.gate_proj.weight:   0%|          | 0.00/180M [00:00<?, ?B/s]"
      ],
      "application/vnd.jupyter.widget-view+json": {
       "version_major": 2,
       "version_minor": 0,
       "model_id": "c1b90431b2524affb3828df743c6c78d"
      }
     },
     "metadata": {},
     "output_type": "display_data"
    },
    {
     "data": {
      "text/plain": [
       "(…)196.model.layers.21.mlp.down_proj.weight:   0%|          | 0.00/180M [00:00<?, ?B/s]"
      ],
      "application/vnd.jupyter.widget-view+json": {
       "version_major": 2,
       "version_minor": 0,
       "model_id": "eb16db35e8d54a5cb5c3b313f6f195bc"
      }
     },
     "metadata": {},
     "output_type": "display_data"
    },
    {
     "data": {
      "text/plain": [
       "p195.model.layers.21.mlp.up_proj.weight:   0%|          | 0.00/180M [00:00<?, ?B/s]"
      ],
      "application/vnd.jupyter.widget-view+json": {
       "version_major": 2,
       "version_minor": 0,
       "model_id": "04831f34acd74db992fa22bcfd1d2ebe"
      }
     },
     "metadata": {},
     "output_type": "display_data"
    },
    {
     "data": {
      "text/plain": [
       "(…)7.model.layers.21.input_layernorm.weight:   0%|          | 0.00/17.3k [00:00<?, ?B/s]"
      ],
      "application/vnd.jupyter.widget-view+json": {
       "version_major": 2,
       "version_minor": 0,
       "model_id": "2152f60ed74a41348c502a7f9424926b"
      }
     },
     "metadata": {},
     "output_type": "display_data"
    },
    {
     "data": {
      "text/plain": [
       "(…)ayers.21.post_attention_layernorm.weight:   0%|          | 0.00/17.3k [00:00<?, ?B/s]"
      ],
      "application/vnd.jupyter.widget-view+json": {
       "version_major": 2,
       "version_minor": 0,
       "model_id": "35980ed294234e47988924e9d22ff80e"
      }
     },
     "metadata": {},
     "output_type": "display_data"
    },
    {
     "data": {
      "text/plain": [
       "(…).model.layers.22.self_attn.q_proj.weight:   0%|          | 0.00/67.1M [00:00<?, ?B/s]"
      ],
      "application/vnd.jupyter.widget-view+json": {
       "version_major": 2,
       "version_minor": 0,
       "model_id": "e4e3161eecc74bc7956e2cad4ac6acdb"
      }
     },
     "metadata": {},
     "output_type": "display_data"
    },
    {
     "data": {
      "text/plain": [
       "(…)2.model.layers.0.self_attn.k_proj.weight:   0%|          | 0.00/67.1M [00:00<?, ?B/s]"
      ],
      "application/vnd.jupyter.widget-view+json": {
       "version_major": 2,
       "version_minor": 0,
       "model_id": "34f30473821946e29665e36a89ceecde"
      }
     },
     "metadata": {},
     "output_type": "display_data"
    },
    {
     "data": {
      "text/plain": [
       "(…)0.model.layers.2.self_attn.k_proj.weight:   0%|          | 0.00/67.1M [00:00<?, ?B/s]"
      ],
      "application/vnd.jupyter.widget-view+json": {
       "version_major": 2,
       "version_minor": 0,
       "model_id": "1c78a48bde8f486f807592bd3dceed48"
      }
     },
     "metadata": {},
     "output_type": "display_data"
    },
    {
     "data": {
      "text/plain": [
       "(…).model.layers.22.self_attn.k_proj.weight:   0%|          | 0.00/67.1M [00:00<?, ?B/s]"
      ],
      "application/vnd.jupyter.widget-view+json": {
       "version_major": 2,
       "version_minor": 0,
       "model_id": "220b918170d84ca982c52662abbaf0ff"
      }
     },
     "metadata": {},
     "output_type": "display_data"
    },
    {
     "data": {
      "text/plain": [
       "(…).model.layers.22.self_attn.v_proj.weight:   0%|          | 0.00/67.1M [00:00<?, ?B/s]"
      ],
      "application/vnd.jupyter.widget-view+json": {
       "version_major": 2,
       "version_minor": 0,
       "model_id": "9d9d869655ce45aeb23841253d499601"
      }
     },
     "metadata": {},
     "output_type": "display_data"
    },
    {
     "data": {
      "text/plain": [
       "(…).model.layers.22.self_attn.o_proj.weight:   0%|          | 0.00/67.1M [00:00<?, ?B/s]"
      ],
      "application/vnd.jupyter.widget-view+json": {
       "version_major": 2,
       "version_minor": 0,
       "model_id": "82aedd4437b74586a63ce19fd38d314d"
      }
     },
     "metadata": {},
     "output_type": "display_data"
    },
    {
     "data": {
      "text/plain": [
       "(…)203.model.layers.22.mlp.gate_proj.weight:   0%|          | 0.00/180M [00:00<?, ?B/s]"
      ],
      "application/vnd.jupyter.widget-view+json": {
       "version_major": 2,
       "version_minor": 0,
       "model_id": "9cbfdf834bfe41c7ab66cdb55f9adea3"
      }
     },
     "metadata": {},
     "output_type": "display_data"
    },
    {
     "data": {
      "text/plain": [
       "p204.model.layers.22.mlp.up_proj.weight:   0%|          | 0.00/180M [00:00<?, ?B/s]"
      ],
      "application/vnd.jupyter.widget-view+json": {
       "version_major": 2,
       "version_minor": 0,
       "model_id": "16637dd13d1240ed89b267f09a4a3a6e"
      }
     },
     "metadata": {},
     "output_type": "display_data"
    },
    {
     "data": {
      "text/plain": [
       "(…)6.model.layers.22.input_layernorm.weight:   0%|          | 0.00/17.3k [00:00<?, ?B/s]"
      ],
      "application/vnd.jupyter.widget-view+json": {
       "version_major": 2,
       "version_minor": 0,
       "model_id": "1a10d67bfbc44f9fbb59ccb5b9475f1e"
      }
     },
     "metadata": {},
     "output_type": "display_data"
    },
    {
     "data": {
      "text/plain": [
       "(…)205.model.layers.22.mlp.down_proj.weight:   0%|          | 0.00/180M [00:00<?, ?B/s]"
      ],
      "application/vnd.jupyter.widget-view+json": {
       "version_major": 2,
       "version_minor": 0,
       "model_id": "fe6bad0510574caca671db440f660ba3"
      }
     },
     "metadata": {},
     "output_type": "display_data"
    },
    {
     "data": {
      "text/plain": [
       "(…)ayers.22.post_attention_layernorm.weight:   0%|          | 0.00/17.3k [00:00<?, ?B/s]"
      ],
      "application/vnd.jupyter.widget-view+json": {
       "version_major": 2,
       "version_minor": 0,
       "model_id": "702c23e8ce834ddfb2bf2b4cde23d219"
      }
     },
     "metadata": {},
     "output_type": "display_data"
    },
    {
     "data": {
      "text/plain": [
       "(…).model.layers.23.self_attn.q_proj.weight:   0%|          | 0.00/67.1M [00:00<?, ?B/s]"
      ],
      "application/vnd.jupyter.widget-view+json": {
       "version_major": 2,
       "version_minor": 0,
       "model_id": "1338aae702884412844191f5fbb30b21"
      }
     },
     "metadata": {},
     "output_type": "display_data"
    },
    {
     "data": {
      "text/plain": [
       "(…).model.layers.23.self_attn.k_proj.weight:   0%|          | 0.00/67.1M [00:00<?, ?B/s]"
      ],
      "application/vnd.jupyter.widget-view+json": {
       "version_major": 2,
       "version_minor": 0,
       "model_id": "72ae147c257d432fa87ac4715dd699e8"
      }
     },
     "metadata": {},
     "output_type": "display_data"
    },
    {
     "data": {
      "text/plain": [
       "(…)1.model.layers.2.self_attn.v_proj.weight:   0%|          | 0.00/67.1M [00:00<?, ?B/s]"
      ],
      "application/vnd.jupyter.widget-view+json": {
       "version_major": 2,
       "version_minor": 0,
       "model_id": "10cd8802a1514184a40cd7757b687376"
      }
     },
     "metadata": {},
     "output_type": "display_data"
    },
    {
     "data": {
      "text/plain": [
       "(…).model.layers.23.self_attn.v_proj.weight:   0%|          | 0.00/67.1M [00:00<?, ?B/s]"
      ],
      "application/vnd.jupyter.widget-view+json": {
       "version_major": 2,
       "version_minor": 0,
       "model_id": "f76d1dec5e804720bc920e801043ece2"
      }
     },
     "metadata": {},
     "output_type": "display_data"
    },
    {
     "data": {
      "text/plain": [
       "(…).model.layers.23.self_attn.o_proj.weight:   0%|          | 0.00/67.1M [00:00<?, ?B/s]"
      ],
      "application/vnd.jupyter.widget-view+json": {
       "version_major": 2,
       "version_minor": 0,
       "model_id": "b7e47b40dacf400a949f066aba30c38e"
      }
     },
     "metadata": {},
     "output_type": "display_data"
    },
    {
     "data": {
      "text/plain": [
       "(…)212.model.layers.23.mlp.gate_proj.weight:   0%|          | 0.00/180M [00:00<?, ?B/s]"
      ],
      "application/vnd.jupyter.widget-view+json": {
       "version_major": 2,
       "version_minor": 0,
       "model_id": "76727184b1f6450bbbec9ef12ef8bb3f"
      }
     },
     "metadata": {},
     "output_type": "display_data"
    },
    {
     "data": {
      "text/plain": [
       "p213.model.layers.23.mlp.up_proj.weight:   0%|          | 0.00/180M [00:00<?, ?B/s]"
      ],
      "application/vnd.jupyter.widget-view+json": {
       "version_major": 2,
       "version_minor": 0,
       "model_id": "1ee409d6414743a1a9376fc6824e3e03"
      }
     },
     "metadata": {},
     "output_type": "display_data"
    },
    {
     "data": {
      "text/plain": [
       "(…)214.model.layers.23.mlp.down_proj.weight:   0%|          | 0.00/180M [00:00<?, ?B/s]"
      ],
      "application/vnd.jupyter.widget-view+json": {
       "version_major": 2,
       "version_minor": 0,
       "model_id": "44bc85dd4e304920896e58a8c292030e"
      }
     },
     "metadata": {},
     "output_type": "display_data"
    },
    {
     "data": {
      "text/plain": [
       "(…)5.model.layers.23.input_layernorm.weight:   0%|          | 0.00/17.3k [00:00<?, ?B/s]"
      ],
      "application/vnd.jupyter.widget-view+json": {
       "version_major": 2,
       "version_minor": 0,
       "model_id": "e4b83598d7fe46e28f76abdda7cd6565"
      }
     },
     "metadata": {},
     "output_type": "display_data"
    },
    {
     "data": {
      "text/plain": [
       "(…)ayers.23.post_attention_layernorm.weight:   0%|          | 0.00/17.3k [00:00<?, ?B/s]"
      ],
      "application/vnd.jupyter.widget-view+json": {
       "version_major": 2,
       "version_minor": 0,
       "model_id": "5aae51f36ab64b228b833d659677502c"
      }
     },
     "metadata": {},
     "output_type": "display_data"
    },
    {
     "data": {
      "text/plain": [
       "(…).model.layers.24.self_attn.q_proj.weight:   0%|          | 0.00/67.1M [00:00<?, ?B/s]"
      ],
      "application/vnd.jupyter.widget-view+json": {
       "version_major": 2,
       "version_minor": 0,
       "model_id": "43ce144210554aecb2c3c0ffe23357e2"
      }
     },
     "metadata": {},
     "output_type": "display_data"
    },
    {
     "data": {
      "text/plain": [
       "(…).model.layers.24.self_attn.k_proj.weight:   0%|          | 0.00/67.1M [00:00<?, ?B/s]"
      ],
      "application/vnd.jupyter.widget-view+json": {
       "version_major": 2,
       "version_minor": 0,
       "model_id": "2049c726bdf04f6cb4cc7c6d6cc4910b"
      }
     },
     "metadata": {},
     "output_type": "display_data"
    },
    {
     "data": {
      "text/plain": [
       "(…).model.layers.24.self_attn.v_proj.weight:   0%|          | 0.00/67.1M [00:00<?, ?B/s]"
      ],
      "application/vnd.jupyter.widget-view+json": {
       "version_major": 2,
       "version_minor": 0,
       "model_id": "5b55e70e041544a58c7c4f9357b309b9"
      }
     },
     "metadata": {},
     "output_type": "display_data"
    },
    {
     "data": {
      "text/plain": [
       "(…)2.model.layers.2.self_attn.o_proj.weight:   0%|          | 0.00/67.1M [00:00<?, ?B/s]"
      ],
      "application/vnd.jupyter.widget-view+json": {
       "version_major": 2,
       "version_minor": 0,
       "model_id": "1573e1f814284facbf5d252296e97c4e"
      }
     },
     "metadata": {},
     "output_type": "display_data"
    },
    {
     "data": {
      "text/plain": [
       "(…).model.layers.24.self_attn.o_proj.weight:   0%|          | 0.00/67.1M [00:00<?, ?B/s]"
      ],
      "application/vnd.jupyter.widget-view+json": {
       "version_major": 2,
       "version_minor": 0,
       "model_id": "a4549d26e30c4f3496ebffce386d70fb"
      }
     },
     "metadata": {},
     "output_type": "display_data"
    },
    {
     "data": {
      "text/plain": [
       "(…)221.model.layers.24.mlp.gate_proj.weight:   0%|          | 0.00/180M [00:00<?, ?B/s]"
      ],
      "application/vnd.jupyter.widget-view+json": {
       "version_major": 2,
       "version_minor": 0,
       "model_id": "855020409b8e4b39a564223718ace3f0"
      }
     },
     "metadata": {},
     "output_type": "display_data"
    },
    {
     "data": {
      "text/plain": [
       "p222.model.layers.24.mlp.up_proj.weight:   0%|          | 0.00/180M [00:00<?, ?B/s]"
      ],
      "application/vnd.jupyter.widget-view+json": {
       "version_major": 2,
       "version_minor": 0,
       "model_id": "d30c29b5af52463eb9c85448d19a3987"
      }
     },
     "metadata": {},
     "output_type": "display_data"
    },
    {
     "data": {
      "text/plain": [
       "(…)223.model.layers.24.mlp.down_proj.weight:   0%|          | 0.00/180M [00:00<?, ?B/s]"
      ],
      "application/vnd.jupyter.widget-view+json": {
       "version_major": 2,
       "version_minor": 0,
       "model_id": "afc3edda786240b7a983244c144a00cc"
      }
     },
     "metadata": {},
     "output_type": "display_data"
    },
    {
     "data": {
      "text/plain": [
       "(…)4.model.layers.24.input_layernorm.weight:   0%|          | 0.00/17.3k [00:00<?, ?B/s]"
      ],
      "application/vnd.jupyter.widget-view+json": {
       "version_major": 2,
       "version_minor": 0,
       "model_id": "a33c15cdee244450bcc14907577536ce"
      }
     },
     "metadata": {},
     "output_type": "display_data"
    },
    {
     "data": {
      "text/plain": [
       "(…)ayers.24.post_attention_layernorm.weight:   0%|          | 0.00/17.3k [00:00<?, ?B/s]"
      ],
      "application/vnd.jupyter.widget-view+json": {
       "version_major": 2,
       "version_minor": 0,
       "model_id": "5187e7fb64194c1aae7b4fd394360f07"
      }
     },
     "metadata": {},
     "output_type": "display_data"
    },
    {
     "data": {
      "text/plain": [
       "(…).model.layers.25.self_attn.q_proj.weight:   0%|          | 0.00/67.1M [00:00<?, ?B/s]"
      ],
      "application/vnd.jupyter.widget-view+json": {
       "version_major": 2,
       "version_minor": 0,
       "model_id": "f2e2e1e6a8ce4c6392311866954fa9d8"
      }
     },
     "metadata": {},
     "output_type": "display_data"
    },
    {
     "data": {
      "text/plain": [
       "(…).model.layers.25.self_attn.k_proj.weight:   0%|          | 0.00/67.1M [00:00<?, ?B/s]"
      ],
      "application/vnd.jupyter.widget-view+json": {
       "version_major": 2,
       "version_minor": 0,
       "model_id": "d3f2b814fc6e4ca3b4914e3ea8e12c2f"
      }
     },
     "metadata": {},
     "output_type": "display_data"
    },
    {
     "data": {
      "text/plain": [
       "(…).model.layers.25.self_attn.v_proj.weight:   0%|          | 0.00/67.1M [00:00<?, ?B/s]"
      ],
      "application/vnd.jupyter.widget-view+json": {
       "version_major": 2,
       "version_minor": 0,
       "model_id": "57d6a13a16344f69920251de16836f89"
      }
     },
     "metadata": {},
     "output_type": "display_data"
    },
    {
     "data": {
      "text/plain": [
       "(…).model.layers.25.self_attn.o_proj.weight:   0%|          | 0.00/67.1M [00:00<?, ?B/s]"
      ],
      "application/vnd.jupyter.widget-view+json": {
       "version_major": 2,
       "version_minor": 0,
       "model_id": "ed4755d95c544f8a8be0b0e310d91aea"
      }
     },
     "metadata": {},
     "output_type": "display_data"
    },
    {
     "data": {
      "text/plain": [
       "p23.model.layers.2.mlp.gate_proj.weight:   0%|          | 0.00/180M [00:00<?, ?B/s]"
      ],
      "application/vnd.jupyter.widget-view+json": {
       "version_major": 2,
       "version_minor": 0,
       "model_id": "11cb66d8e36045c8a2bd7f1da96a44a3"
      }
     },
     "metadata": {},
     "output_type": "display_data"
    },
    {
     "data": {
      "text/plain": [
       "(…)230.model.layers.25.mlp.gate_proj.weight:   0%|          | 0.00/180M [00:00<?, ?B/s]"
      ],
      "application/vnd.jupyter.widget-view+json": {
       "version_major": 2,
       "version_minor": 0,
       "model_id": "410ad76fe1c14e06984f2e96007977fd"
      }
     },
     "metadata": {},
     "output_type": "display_data"
    },
    {
     "data": {
      "text/plain": [
       "p231.model.layers.25.mlp.up_proj.weight:   0%|          | 0.00/180M [00:00<?, ?B/s]"
      ],
      "application/vnd.jupyter.widget-view+json": {
       "version_major": 2,
       "version_minor": 0,
       "model_id": "0888876acf264857ab66a27c50734846"
      }
     },
     "metadata": {},
     "output_type": "display_data"
    },
    {
     "data": {
      "text/plain": [
       "(…)232.model.layers.25.mlp.down_proj.weight:   0%|          | 0.00/180M [00:00<?, ?B/s]"
      ],
      "application/vnd.jupyter.widget-view+json": {
       "version_major": 2,
       "version_minor": 0,
       "model_id": "8f27089fa2b849a8b6c4fcf86e2e19be"
      }
     },
     "metadata": {},
     "output_type": "display_data"
    },
    {
     "data": {
      "text/plain": [
       "(…)3.model.layers.25.input_layernorm.weight:   0%|          | 0.00/17.3k [00:00<?, ?B/s]"
      ],
      "application/vnd.jupyter.widget-view+json": {
       "version_major": 2,
       "version_minor": 0,
       "model_id": "c06dae6be5724c5fb9d1d30091003b57"
      }
     },
     "metadata": {},
     "output_type": "display_data"
    },
    {
     "data": {
      "text/plain": [
       "(…)ayers.25.post_attention_layernorm.weight:   0%|          | 0.00/17.3k [00:00<?, ?B/s]"
      ],
      "application/vnd.jupyter.widget-view+json": {
       "version_major": 2,
       "version_minor": 0,
       "model_id": "4aa8277dd645437ba91bb7df9cb4b1f1"
      }
     },
     "metadata": {},
     "output_type": "display_data"
    },
    {
     "data": {
      "text/plain": [
       "(…).model.layers.26.self_attn.q_proj.weight:   0%|          | 0.00/67.1M [00:00<?, ?B/s]"
      ],
      "application/vnd.jupyter.widget-view+json": {
       "version_major": 2,
       "version_minor": 0,
       "model_id": "43116ed32d0c4fe1a46fefd07e856908"
      }
     },
     "metadata": {},
     "output_type": "display_data"
    },
    {
     "data": {
      "text/plain": [
       "(…).model.layers.26.self_attn.k_proj.weight:   0%|          | 0.00/67.1M [00:00<?, ?B/s]"
      ],
      "application/vnd.jupyter.widget-view+json": {
       "version_major": 2,
       "version_minor": 0,
       "model_id": "4427694906e64d8a9776f622c2798e40"
      }
     },
     "metadata": {},
     "output_type": "display_data"
    },
    {
     "data": {
      "text/plain": [
       "(…).model.layers.26.self_attn.v_proj.weight:   0%|          | 0.00/67.1M [00:00<?, ?B/s]"
      ],
      "application/vnd.jupyter.widget-view+json": {
       "version_major": 2,
       "version_minor": 0,
       "model_id": "c4265ee4ea6d41768d522cdc55245039"
      }
     },
     "metadata": {},
     "output_type": "display_data"
    },
    {
     "data": {
      "text/plain": [
       "(…).model.layers.26.self_attn.o_proj.weight:   0%|          | 0.00/67.1M [00:00<?, ?B/s]"
      ],
      "application/vnd.jupyter.widget-view+json": {
       "version_major": 2,
       "version_minor": 0,
       "model_id": "c3bdb5c020a54dd29448a9767c117ec0"
      }
     },
     "metadata": {},
     "output_type": "display_data"
    },
    {
     "data": {
      "text/plain": [
       "(…)239.model.layers.26.mlp.gate_proj.weight:   0%|          | 0.00/180M [00:00<?, ?B/s]"
      ],
      "application/vnd.jupyter.widget-view+json": {
       "version_major": 2,
       "version_minor": 0,
       "model_id": "de312fe812954e789307a79815acedcb"
      }
     },
     "metadata": {},
     "output_type": "display_data"
    },
    {
     "data": {
      "text/plain": [
       "p240.model.layers.26.mlp.up_proj.weight:   0%|          | 0.00/180M [00:00<?, ?B/s]"
      ],
      "application/vnd.jupyter.widget-view+json": {
       "version_major": 2,
       "version_minor": 0,
       "model_id": "93f56fb8b1374405a3eeb8811d45ab62"
      }
     },
     "metadata": {},
     "output_type": "display_data"
    },
    {
     "data": {
      "text/plain": [
       "p24.model.layers.2.mlp.up_proj.weight:   0%|          | 0.00/180M [00:00<?, ?B/s]"
      ],
      "application/vnd.jupyter.widget-view+json": {
       "version_major": 2,
       "version_minor": 0,
       "model_id": "56b6da6b526549d3965f0d7968249293"
      }
     },
     "metadata": {},
     "output_type": "display_data"
    },
    {
     "data": {
      "text/plain": [
       "(…)2.model.layers.26.input_layernorm.weight:   0%|          | 0.00/17.3k [00:00<?, ?B/s]"
      ],
      "application/vnd.jupyter.widget-view+json": {
       "version_major": 2,
       "version_minor": 0,
       "model_id": "9c5173a6c278462ab153fc3d9d636f47"
      }
     },
     "metadata": {},
     "output_type": "display_data"
    },
    {
     "data": {
      "text/plain": [
       "(…)241.model.layers.26.mlp.down_proj.weight:   0%|          | 0.00/180M [00:00<?, ?B/s]"
      ],
      "application/vnd.jupyter.widget-view+json": {
       "version_major": 2,
       "version_minor": 0,
       "model_id": "201955a913f849adaa06e150dd0c5a22"
      }
     },
     "metadata": {},
     "output_type": "display_data"
    },
    {
     "data": {
      "text/plain": [
       "(…)ayers.26.post_attention_layernorm.weight:   0%|          | 0.00/17.3k [00:00<?, ?B/s]"
      ],
      "application/vnd.jupyter.widget-view+json": {
       "version_major": 2,
       "version_minor": 0,
       "model_id": "eea19add810a4c69817f230dcc779eeb"
      }
     },
     "metadata": {},
     "output_type": "display_data"
    },
    {
     "data": {
      "text/plain": [
       "(…).model.layers.27.self_attn.q_proj.weight:   0%|          | 0.00/67.1M [00:00<?, ?B/s]"
      ],
      "application/vnd.jupyter.widget-view+json": {
       "version_major": 2,
       "version_minor": 0,
       "model_id": "bedb4466004b45c4bf217af44d4268f2"
      }
     },
     "metadata": {},
     "output_type": "display_data"
    },
    {
     "data": {
      "text/plain": [
       "(…).model.layers.27.self_attn.k_proj.weight:   0%|          | 0.00/67.1M [00:00<?, ?B/s]"
      ],
      "application/vnd.jupyter.widget-view+json": {
       "version_major": 2,
       "version_minor": 0,
       "model_id": "f21fdda2756e4e3cad12894bee3da6ee"
      }
     },
     "metadata": {},
     "output_type": "display_data"
    },
    {
     "data": {
      "text/plain": [
       "(…).model.layers.27.self_attn.v_proj.weight:   0%|          | 0.00/67.1M [00:00<?, ?B/s]"
      ],
      "application/vnd.jupyter.widget-view+json": {
       "version_major": 2,
       "version_minor": 0,
       "model_id": "c3622f55fce84500913477af8a7514dd"
      }
     },
     "metadata": {},
     "output_type": "display_data"
    },
    {
     "data": {
      "text/plain": [
       "(…).model.layers.27.self_attn.o_proj.weight:   0%|          | 0.00/67.1M [00:00<?, ?B/s]"
      ],
      "application/vnd.jupyter.widget-view+json": {
       "version_major": 2,
       "version_minor": 0,
       "model_id": "97d19a8e25174303bdf2acc43d379789"
      }
     },
     "metadata": {},
     "output_type": "display_data"
    },
    {
     "data": {
      "text/plain": [
       "(…)248.model.layers.27.mlp.gate_proj.weight:   0%|          | 0.00/180M [00:00<?, ?B/s]"
      ],
      "application/vnd.jupyter.widget-view+json": {
       "version_major": 2,
       "version_minor": 0,
       "model_id": "abc3079740d8414f8398a112e1bc475c"
      }
     },
     "metadata": {},
     "output_type": "display_data"
    },
    {
     "data": {
      "text/plain": [
       "p249.model.layers.27.mlp.up_proj.weight:   0%|          | 0.00/180M [00:00<?, ?B/s]"
      ],
      "application/vnd.jupyter.widget-view+json": {
       "version_major": 2,
       "version_minor": 0,
       "model_id": "aeded4c01bba4322b40e3ec010139ca4"
      }
     },
     "metadata": {},
     "output_type": "display_data"
    },
    {
     "data": {
      "text/plain": [
       "p25.model.layers.2.mlp.down_proj.weight:   0%|          | 0.00/180M [00:00<?, ?B/s]"
      ],
      "application/vnd.jupyter.widget-view+json": {
       "version_major": 2,
       "version_minor": 0,
       "model_id": "76ef2841242d4ffebf593eb7f0674d12"
      }
     },
     "metadata": {},
     "output_type": "display_data"
    },
    {
     "data": {
      "text/plain": [
       "(…)250.model.layers.27.mlp.down_proj.weight:   0%|          | 0.00/180M [00:00<?, ?B/s]"
      ],
      "application/vnd.jupyter.widget-view+json": {
       "version_major": 2,
       "version_minor": 0,
       "model_id": "cb8e185aa3d648be909a9de5a48d58da"
      }
     },
     "metadata": {},
     "output_type": "display_data"
    },
    {
     "data": {
      "text/plain": [
       "(…)ayers.27.post_attention_layernorm.weight:   0%|          | 0.00/17.3k [00:00<?, ?B/s]"
      ],
      "application/vnd.jupyter.widget-view+json": {
       "version_major": 2,
       "version_minor": 0,
       "model_id": "331159d060774e3abc57027b91d2adc9"
      }
     },
     "metadata": {},
     "output_type": "display_data"
    },
    {
     "data": {
      "text/plain": [
       "(…)1.model.layers.27.input_layernorm.weight:   0%|          | 0.00/17.3k [00:00<?, ?B/s]"
      ],
      "application/vnd.jupyter.widget-view+json": {
       "version_major": 2,
       "version_minor": 0,
       "model_id": "3ddb0925266649fbb814a82bf07eed52"
      }
     },
     "metadata": {},
     "output_type": "display_data"
    },
    {
     "data": {
      "text/plain": [
       "(…).model.layers.28.self_attn.q_proj.weight:   0%|          | 0.00/67.1M [00:00<?, ?B/s]"
      ],
      "application/vnd.jupyter.widget-view+json": {
       "version_major": 2,
       "version_minor": 0,
       "model_id": "87dea3a59906496bb2682e4c39599b3d"
      }
     },
     "metadata": {},
     "output_type": "display_data"
    },
    {
     "data": {
      "text/plain": [
       "(…).model.layers.28.self_attn.k_proj.weight:   0%|          | 0.00/67.1M [00:00<?, ?B/s]"
      ],
      "application/vnd.jupyter.widget-view+json": {
       "version_major": 2,
       "version_minor": 0,
       "model_id": "819d74e2354f4308b0db4a75d3fc246b"
      }
     },
     "metadata": {},
     "output_type": "display_data"
    },
    {
     "data": {
      "text/plain": [
       "(…).model.layers.28.self_attn.v_proj.weight:   0%|          | 0.00/67.1M [00:00<?, ?B/s]"
      ],
      "application/vnd.jupyter.widget-view+json": {
       "version_major": 2,
       "version_minor": 0,
       "model_id": "af939eb808f4431db0b4de042880e0c8"
      }
     },
     "metadata": {},
     "output_type": "display_data"
    },
    {
     "data": {
      "text/plain": [
       "(…).model.layers.28.self_attn.o_proj.weight:   0%|          | 0.00/67.1M [00:00<?, ?B/s]"
      ],
      "application/vnd.jupyter.widget-view+json": {
       "version_major": 2,
       "version_minor": 0,
       "model_id": "de7bddcc4bc4451eb8fc89f83cb63fb4"
      }
     },
     "metadata": {},
     "output_type": "display_data"
    },
    {
     "data": {
      "text/plain": [
       "(…)257.model.layers.28.mlp.gate_proj.weight:   0%|          | 0.00/180M [00:00<?, ?B/s]"
      ],
      "application/vnd.jupyter.widget-view+json": {
       "version_major": 2,
       "version_minor": 0,
       "model_id": "99809bc450df4b339e61a34663f0d3da"
      }
     },
     "metadata": {},
     "output_type": "display_data"
    },
    {
     "data": {
      "text/plain": [
       "p258.model.layers.28.mlp.up_proj.weight:   0%|          | 0.00/180M [00:00<?, ?B/s]"
      ],
      "application/vnd.jupyter.widget-view+json": {
       "version_major": 2,
       "version_minor": 0,
       "model_id": "5d53998f6a35436795c9511dcc908643"
      }
     },
     "metadata": {},
     "output_type": "display_data"
    },
    {
     "data": {
      "text/plain": [
       "(…)259.model.layers.28.mlp.down_proj.weight:   0%|          | 0.00/180M [00:00<?, ?B/s]"
      ],
      "application/vnd.jupyter.widget-view+json": {
       "version_major": 2,
       "version_minor": 0,
       "model_id": "5d52485434f44e2b8f0a74001a04c378"
      }
     },
     "metadata": {},
     "output_type": "display_data"
    },
    {
     "data": {
      "text/plain": [
       "(…)26.model.layers.2.input_layernorm.weight:   0%|          | 0.00/17.3k [00:00<?, ?B/s]"
      ],
      "application/vnd.jupyter.widget-view+json": {
       "version_major": 2,
       "version_minor": 0,
       "model_id": "852306beb3ab40afbfeeb55503f7593e"
      }
     },
     "metadata": {},
     "output_type": "display_data"
    },
    {
     "data": {
      "text/plain": [
       "(…)0.model.layers.28.input_layernorm.weight:   0%|          | 0.00/17.3k [00:00<?, ?B/s]"
      ],
      "application/vnd.jupyter.widget-view+json": {
       "version_major": 2,
       "version_minor": 0,
       "model_id": "876c64a1324a488c9c3774450f7af36d"
      }
     },
     "metadata": {},
     "output_type": "display_data"
    },
    {
     "data": {
      "text/plain": [
       "(…).model.layers.29.self_attn.q_proj.weight:   0%|          | 0.00/67.1M [00:00<?, ?B/s]"
      ],
      "application/vnd.jupyter.widget-view+json": {
       "version_major": 2,
       "version_minor": 0,
       "model_id": "5bdd0aee9660472c9ce191b33327ca75"
      }
     },
     "metadata": {},
     "output_type": "display_data"
    },
    {
     "data": {
      "text/plain": [
       "(…)ayers.28.post_attention_layernorm.weight:   0%|          | 0.00/17.3k [00:00<?, ?B/s]"
      ],
      "application/vnd.jupyter.widget-view+json": {
       "version_major": 2,
       "version_minor": 0,
       "model_id": "d6c8115d753549a5a8cbb49c81a6a572"
      }
     },
     "metadata": {},
     "output_type": "display_data"
    },
    {
     "data": {
      "text/plain": [
       "(…).model.layers.29.self_attn.k_proj.weight:   0%|          | 0.00/67.1M [00:00<?, ?B/s]"
      ],
      "application/vnd.jupyter.widget-view+json": {
       "version_major": 2,
       "version_minor": 0,
       "model_id": "72d2fd67592d4a1c9e23c5603db724ff"
      }
     },
     "metadata": {},
     "output_type": "display_data"
    },
    {
     "data": {
      "text/plain": [
       "(…).model.layers.29.self_attn.v_proj.weight:   0%|          | 0.00/67.1M [00:00<?, ?B/s]"
      ],
      "application/vnd.jupyter.widget-view+json": {
       "version_major": 2,
       "version_minor": 0,
       "model_id": "d0c0aad2e00041519de830ed548f20f5"
      }
     },
     "metadata": {},
     "output_type": "display_data"
    },
    {
     "data": {
      "text/plain": [
       "(…).model.layers.29.self_attn.o_proj.weight:   0%|          | 0.00/67.1M [00:00<?, ?B/s]"
      ],
      "application/vnd.jupyter.widget-view+json": {
       "version_major": 2,
       "version_minor": 0,
       "model_id": "7a3f534d41d04b2c82170f0be14fae5b"
      }
     },
     "metadata": {},
     "output_type": "display_data"
    },
    {
     "data": {
      "text/plain": [
       "(…)266.model.layers.29.mlp.gate_proj.weight:   0%|          | 0.00/180M [00:00<?, ?B/s]"
      ],
      "application/vnd.jupyter.widget-view+json": {
       "version_major": 2,
       "version_minor": 0,
       "model_id": "50e738fdde0d40c4801f0d8016941922"
      }
     },
     "metadata": {},
     "output_type": "display_data"
    },
    {
     "data": {
      "text/plain": [
       "p267.model.layers.29.mlp.up_proj.weight:   0%|          | 0.00/180M [00:00<?, ?B/s]"
      ],
      "application/vnd.jupyter.widget-view+json": {
       "version_major": 2,
       "version_minor": 0,
       "model_id": "fbc56d1c310c448e8730534be38c046b"
      }
     },
     "metadata": {},
     "output_type": "display_data"
    },
    {
     "data": {
      "text/plain": [
       "(…)268.model.layers.29.mlp.down_proj.weight:   0%|          | 0.00/180M [00:00<?, ?B/s]"
      ],
      "application/vnd.jupyter.widget-view+json": {
       "version_major": 2,
       "version_minor": 0,
       "model_id": "5f14d376f72e4511bcd453864ef3bd8a"
      }
     },
     "metadata": {},
     "output_type": "display_data"
    },
    {
     "data": {
      "text/plain": [
       "(…)9.model.layers.29.input_layernorm.weight:   0%|          | 0.00/17.3k [00:00<?, ?B/s]"
      ],
      "application/vnd.jupyter.widget-view+json": {
       "version_major": 2,
       "version_minor": 0,
       "model_id": "1eb01226afd7444a833cec7620d63fc3"
      }
     },
     "metadata": {},
     "output_type": "display_data"
    },
    {
     "data": {
      "text/plain": [
       "(…)layers.2.post_attention_layernorm.weight:   0%|          | 0.00/17.3k [00:00<?, ?B/s]"
      ],
      "application/vnd.jupyter.widget-view+json": {
       "version_major": 2,
       "version_minor": 0,
       "model_id": "4f36b5675dd740c0a6e46c4ebe62e799"
      }
     },
     "metadata": {},
     "output_type": "display_data"
    },
    {
     "data": {
      "text/plain": [
       "(…)ayers.29.post_attention_layernorm.weight:   0%|          | 0.00/17.3k [00:00<?, ?B/s]"
      ],
      "application/vnd.jupyter.widget-view+json": {
       "version_major": 2,
       "version_minor": 0,
       "model_id": "878871f5096942d9aa9cd65c0cde7f0e"
      }
     },
     "metadata": {},
     "output_type": "display_data"
    },
    {
     "data": {
      "text/plain": [
       "(…).model.layers.30.self_attn.q_proj.weight:   0%|          | 0.00/67.1M [00:00<?, ?B/s]"
      ],
      "application/vnd.jupyter.widget-view+json": {
       "version_major": 2,
       "version_minor": 0,
       "model_id": "0818767cd6ed4461aada629aed2b619e"
      }
     },
     "metadata": {},
     "output_type": "display_data"
    },
    {
     "data": {
      "text/plain": [
       "(…).model.layers.30.self_attn.k_proj.weight:   0%|          | 0.00/67.1M [00:00<?, ?B/s]"
      ],
      "application/vnd.jupyter.widget-view+json": {
       "version_major": 2,
       "version_minor": 0,
       "model_id": "2890fd0f915b48d9b29546abcc872e62"
      }
     },
     "metadata": {},
     "output_type": "display_data"
    },
    {
     "data": {
      "text/plain": [
       "(…).model.layers.30.self_attn.v_proj.weight:   0%|          | 0.00/67.1M [00:00<?, ?B/s]"
      ],
      "application/vnd.jupyter.widget-view+json": {
       "version_major": 2,
       "version_minor": 0,
       "model_id": "b771c879e4244668878712d5f6d2edf5"
      }
     },
     "metadata": {},
     "output_type": "display_data"
    },
    {
     "data": {
      "text/plain": [
       "(…).model.layers.30.self_attn.o_proj.weight:   0%|          | 0.00/67.1M [00:00<?, ?B/s]"
      ],
      "application/vnd.jupyter.widget-view+json": {
       "version_major": 2,
       "version_minor": 0,
       "model_id": "d06f1dbc1b314a30986b1f976baddd10"
      }
     },
     "metadata": {},
     "output_type": "display_data"
    },
    {
     "data": {
      "text/plain": [
       "(…)275.model.layers.30.mlp.gate_proj.weight:   0%|          | 0.00/180M [00:00<?, ?B/s]"
      ],
      "application/vnd.jupyter.widget-view+json": {
       "version_major": 2,
       "version_minor": 0,
       "model_id": "fe623257b20c477aba4ded951208ae1e"
      }
     },
     "metadata": {},
     "output_type": "display_data"
    },
    {
     "data": {
      "text/plain": [
       "p276.model.layers.30.mlp.up_proj.weight:   0%|          | 0.00/180M [00:00<?, ?B/s]"
      ],
      "application/vnd.jupyter.widget-view+json": {
       "version_major": 2,
       "version_minor": 0,
       "model_id": "93e7220cad8743dba0ee37f1ca184c4a"
      }
     },
     "metadata": {},
     "output_type": "display_data"
    },
    {
     "data": {
      "text/plain": [
       "(…)277.model.layers.30.mlp.down_proj.weight:   0%|          | 0.00/180M [00:00<?, ?B/s]"
      ],
      "application/vnd.jupyter.widget-view+json": {
       "version_major": 2,
       "version_minor": 0,
       "model_id": "43732767cd5944bdac3174cc38b30ab9"
      }
     },
     "metadata": {},
     "output_type": "display_data"
    },
    {
     "data": {
      "text/plain": [
       "(…)8.model.layers.30.input_layernorm.weight:   0%|          | 0.00/17.3k [00:00<?, ?B/s]"
      ],
      "application/vnd.jupyter.widget-view+json": {
       "version_major": 2,
       "version_minor": 0,
       "model_id": "d8c2c1ab5c9f4706993d323a5ff823ff"
      }
     },
     "metadata": {},
     "output_type": "display_data"
    },
    {
     "data": {
      "text/plain": [
       "(…)ayers.30.post_attention_layernorm.weight:   0%|          | 0.00/17.3k [00:00<?, ?B/s]"
      ],
      "application/vnd.jupyter.widget-view+json": {
       "version_major": 2,
       "version_minor": 0,
       "model_id": "e9e6f754100648fca440ccbe25ecf47a"
      }
     },
     "metadata": {},
     "output_type": "display_data"
    },
    {
     "data": {
      "text/plain": [
       "(…)8.model.layers.3.self_attn.q_proj.weight:   0%|          | 0.00/67.1M [00:00<?, ?B/s]"
      ],
      "application/vnd.jupyter.widget-view+json": {
       "version_major": 2,
       "version_minor": 0,
       "model_id": "6428cbf1d1c948cb85ec07e3e49800af"
      }
     },
     "metadata": {},
     "output_type": "display_data"
    },
    {
     "data": {
      "text/plain": [
       "(…).model.layers.31.self_attn.k_proj.weight:   0%|          | 0.00/67.1M [00:00<?, ?B/s]"
      ],
      "application/vnd.jupyter.widget-view+json": {
       "version_major": 2,
       "version_minor": 0,
       "model_id": "8f931eb7a6034ee88d0241fe4de32b4d"
      }
     },
     "metadata": {},
     "output_type": "display_data"
    },
    {
     "data": {
      "text/plain": [
       "(…).model.layers.31.self_attn.q_proj.weight:   0%|          | 0.00/67.1M [00:00<?, ?B/s]"
      ],
      "application/vnd.jupyter.widget-view+json": {
       "version_major": 2,
       "version_minor": 0,
       "model_id": "8fbdf467a7d0435ab18943041a0a5c1c"
      }
     },
     "metadata": {},
     "output_type": "display_data"
    },
    {
     "data": {
      "text/plain": [
       "(…).model.layers.31.self_attn.v_proj.weight:   0%|          | 0.00/67.1M [00:00<?, ?B/s]"
      ],
      "application/vnd.jupyter.widget-view+json": {
       "version_major": 2,
       "version_minor": 0,
       "model_id": "9681104fb12c4f6c9d8b36a76a1b343a"
      }
     },
     "metadata": {},
     "output_type": "display_data"
    },
    {
     "data": {
      "text/plain": [
       "(…).model.layers.31.self_attn.o_proj.weight:   0%|          | 0.00/67.1M [00:00<?, ?B/s]"
      ],
      "application/vnd.jupyter.widget-view+json": {
       "version_major": 2,
       "version_minor": 0,
       "model_id": "144a1633d0eb4a949f30a5740e5b1dc0"
      }
     },
     "metadata": {},
     "output_type": "display_data"
    },
    {
     "data": {
      "text/plain": [
       "(…)284.model.layers.31.mlp.gate_proj.weight:   0%|          | 0.00/180M [00:00<?, ?B/s]"
      ],
      "application/vnd.jupyter.widget-view+json": {
       "version_major": 2,
       "version_minor": 0,
       "model_id": "4e22af7b92704d9692875cc81bcb4f24"
      }
     },
     "metadata": {},
     "output_type": "display_data"
    },
    {
     "data": {
      "text/plain": [
       "p285.model.layers.31.mlp.up_proj.weight:   0%|          | 0.00/180M [00:00<?, ?B/s]"
      ],
      "application/vnd.jupyter.widget-view+json": {
       "version_major": 2,
       "version_minor": 0,
       "model_id": "cdbe102f93d7493e95217867af4b7562"
      }
     },
     "metadata": {},
     "output_type": "display_data"
    },
    {
     "data": {
      "text/plain": [
       "(…)286.model.layers.31.mlp.down_proj.weight:   0%|          | 0.00/180M [00:00<?, ?B/s]"
      ],
      "application/vnd.jupyter.widget-view+json": {
       "version_major": 2,
       "version_minor": 0,
       "model_id": "92f65dabc2eb496ab2418f472e7d708e"
      }
     },
     "metadata": {},
     "output_type": "display_data"
    },
    {
     "data": {
      "text/plain": [
       "(…)7.model.layers.31.input_layernorm.weight:   0%|          | 0.00/17.3k [00:00<?, ?B/s]"
      ],
      "application/vnd.jupyter.widget-view+json": {
       "version_major": 2,
       "version_minor": 0,
       "model_id": "958d6cf3d3224a95880a1035f2dcc1d0"
      }
     },
     "metadata": {},
     "output_type": "display_data"
    },
    {
     "data": {
      "text/plain": [
       "p289.model.norm.weight:   0%|          | 0.00/17.2k [00:00<?, ?B/s]"
      ],
      "application/vnd.jupyter.widget-view+json": {
       "version_major": 2,
       "version_minor": 0,
       "model_id": "ab2f7848cfa749de84e79a96bab238e7"
      }
     },
     "metadata": {},
     "output_type": "display_data"
    },
    {
     "data": {
      "text/plain": [
       "(…)ayers.31.post_attention_layernorm.weight:   0%|          | 0.00/17.3k [00:00<?, ?B/s]"
      ],
      "application/vnd.jupyter.widget-view+json": {
       "version_major": 2,
       "version_minor": 0,
       "model_id": "fc22701d5de84d62a966dd48480dd5a2"
      }
     },
     "metadata": {},
     "output_type": "display_data"
    },
    {
     "data": {
      "text/plain": [
       "(…)9.model.layers.3.self_attn.k_proj.weight:   0%|          | 0.00/67.1M [00:00<?, ?B/s]"
      ],
      "application/vnd.jupyter.widget-view+json": {
       "version_major": 2,
       "version_minor": 0,
       "model_id": "84a92d5b3a614371838caf0fd9266449"
      }
     },
     "metadata": {},
     "output_type": "display_data"
    },
    {
     "data": {
      "text/plain": [
       "(…)3.model.layers.0.self_attn.v_proj.weight:   0%|          | 0.00/67.1M [00:00<?, ?B/s]"
      ],
      "application/vnd.jupyter.widget-view+json": {
       "version_major": 2,
       "version_minor": 0,
       "model_id": "fbf17c5819a3432e9a3fa178dc574df7"
      }
     },
     "metadata": {},
     "output_type": "display_data"
    },
    {
     "data": {
      "text/plain": [
       "p290.lm_head.weight:   0%|          | 0.00/524M [00:00<?, ?B/s]"
      ],
      "application/vnd.jupyter.widget-view+json": {
       "version_major": 2,
       "version_minor": 0,
       "model_id": "c563bd9b8cc045c498574af6e3b7d633"
      }
     },
     "metadata": {},
     "output_type": "display_data"
    },
    {
     "data": {
      "text/plain": [
       "(…)0.model.layers.3.self_attn.v_proj.weight:   0%|          | 0.00/67.1M [00:00<?, ?B/s]"
      ],
      "application/vnd.jupyter.widget-view+json": {
       "version_major": 2,
       "version_minor": 0,
       "model_id": "74ae2080770b4186ab9ef360d973e317"
      }
     },
     "metadata": {},
     "output_type": "display_data"
    },
    {
     "data": {
      "text/plain": [
       "(…)1.model.layers.3.self_attn.o_proj.weight:   0%|          | 0.00/67.1M [00:00<?, ?B/s]"
      ],
      "application/vnd.jupyter.widget-view+json": {
       "version_major": 2,
       "version_minor": 0,
       "model_id": "c978fd448975494ab3bacc0d180a3080"
      }
     },
     "metadata": {},
     "output_type": "display_data"
    },
    {
     "data": {
      "text/plain": [
       "p32.model.layers.3.mlp.gate_proj.weight:   0%|          | 0.00/180M [00:00<?, ?B/s]"
      ],
      "application/vnd.jupyter.widget-view+json": {
       "version_major": 2,
       "version_minor": 0,
       "model_id": "28b950cb9eb3477d96df511f16882b75"
      }
     },
     "metadata": {},
     "output_type": "display_data"
    },
    {
     "data": {
      "text/plain": [
       "p33.model.layers.3.mlp.up_proj.weight:   0%|          | 0.00/180M [00:00<?, ?B/s]"
      ],
      "application/vnd.jupyter.widget-view+json": {
       "version_major": 2,
       "version_minor": 0,
       "model_id": "49092f24f3824612ac6cd12a24834323"
      }
     },
     "metadata": {},
     "output_type": "display_data"
    },
    {
     "data": {
      "text/plain": [
       "p34.model.layers.3.mlp.down_proj.weight:   0%|          | 0.00/180M [00:00<?, ?B/s]"
      ],
      "application/vnd.jupyter.widget-view+json": {
       "version_major": 2,
       "version_minor": 0,
       "model_id": "3c4df6e20a234b0b871560470171160e"
      }
     },
     "metadata": {},
     "output_type": "display_data"
    },
    {
     "data": {
      "text/plain": [
       "(…)35.model.layers.3.input_layernorm.weight:   0%|          | 0.00/17.3k [00:00<?, ?B/s]"
      ],
      "application/vnd.jupyter.widget-view+json": {
       "version_major": 2,
       "version_minor": 0,
       "model_id": "897a0cfba2424546958d13a32f6ce8de"
      }
     },
     "metadata": {},
     "output_type": "display_data"
    },
    {
     "data": {
      "text/plain": [
       "(…)layers.3.post_attention_layernorm.weight:   0%|          | 0.00/17.3k [00:00<?, ?B/s]"
      ],
      "application/vnd.jupyter.widget-view+json": {
       "version_major": 2,
       "version_minor": 0,
       "model_id": "cfb2c7ccc40f4633b98ed1003963a326"
      }
     },
     "metadata": {},
     "output_type": "display_data"
    },
    {
     "data": {
      "text/plain": [
       "(…)7.model.layers.4.self_attn.q_proj.weight:   0%|          | 0.00/67.1M [00:00<?, ?B/s]"
      ],
      "application/vnd.jupyter.widget-view+json": {
       "version_major": 2,
       "version_minor": 0,
       "model_id": "0c48f799e3a942288f572347eeb4eea6"
      }
     },
     "metadata": {},
     "output_type": "display_data"
    },
    {
     "data": {
      "text/plain": [
       "(…)8.model.layers.4.self_attn.k_proj.weight:   0%|          | 0.00/67.1M [00:00<?, ?B/s]"
      ],
      "application/vnd.jupyter.widget-view+json": {
       "version_major": 2,
       "version_minor": 0,
       "model_id": "e7d46812fa194cdfb0ead93435fd97be"
      }
     },
     "metadata": {},
     "output_type": "display_data"
    },
    {
     "data": {
      "text/plain": [
       "(…)9.model.layers.4.self_attn.v_proj.weight:   0%|          | 0.00/67.1M [00:00<?, ?B/s]"
      ],
      "application/vnd.jupyter.widget-view+json": {
       "version_major": 2,
       "version_minor": 0,
       "model_id": "d810cb339366487fa70041dfa4b52937"
      }
     },
     "metadata": {},
     "output_type": "display_data"
    },
    {
     "data": {
      "text/plain": [
       "(…)4.model.layers.0.self_attn.o_proj.weight:   0%|          | 0.00/67.1M [00:00<?, ?B/s]"
      ],
      "application/vnd.jupyter.widget-view+json": {
       "version_major": 2,
       "version_minor": 0,
       "model_id": "9d367ba0ee944d35a760bfd5b46ffa70"
      }
     },
     "metadata": {},
     "output_type": "display_data"
    },
    {
     "data": {
      "text/plain": [
       "(…)0.model.layers.4.self_attn.o_proj.weight:   0%|          | 0.00/67.1M [00:00<?, ?B/s]"
      ],
      "application/vnd.jupyter.widget-view+json": {
       "version_major": 2,
       "version_minor": 0,
       "model_id": "0cc422077f664869b896d4fc0858ca5f"
      }
     },
     "metadata": {},
     "output_type": "display_data"
    },
    {
     "data": {
      "text/plain": [
       "p41.model.layers.4.mlp.gate_proj.weight:   0%|          | 0.00/180M [00:00<?, ?B/s]"
      ],
      "application/vnd.jupyter.widget-view+json": {
       "version_major": 2,
       "version_minor": 0,
       "model_id": "330e90ac360749d28e0cf47a3d13dacc"
      }
     },
     "metadata": {},
     "output_type": "display_data"
    },
    {
     "data": {
      "text/plain": [
       "p42.model.layers.4.mlp.up_proj.weight:   0%|          | 0.00/180M [00:00<?, ?B/s]"
      ],
      "application/vnd.jupyter.widget-view+json": {
       "version_major": 2,
       "version_minor": 0,
       "model_id": "d8d871606b15478e984750fd725ad70d"
      }
     },
     "metadata": {},
     "output_type": "display_data"
    },
    {
     "data": {
      "text/plain": [
       "p43.model.layers.4.mlp.down_proj.weight:   0%|          | 0.00/180M [00:00<?, ?B/s]"
      ],
      "application/vnd.jupyter.widget-view+json": {
       "version_major": 2,
       "version_minor": 0,
       "model_id": "b2d1976132cd4c5ea3a566d7a1976311"
      }
     },
     "metadata": {},
     "output_type": "display_data"
    },
    {
     "data": {
      "text/plain": [
       "(…)44.model.layers.4.input_layernorm.weight:   0%|          | 0.00/17.3k [00:00<?, ?B/s]"
      ],
      "application/vnd.jupyter.widget-view+json": {
       "version_major": 2,
       "version_minor": 0,
       "model_id": "941ee115058c49b0a492f68bbee97670"
      }
     },
     "metadata": {},
     "output_type": "display_data"
    },
    {
     "data": {
      "text/plain": [
       "(…)layers.4.post_attention_layernorm.weight:   0%|          | 0.00/17.3k [00:00<?, ?B/s]"
      ],
      "application/vnd.jupyter.widget-view+json": {
       "version_major": 2,
       "version_minor": 0,
       "model_id": "600ca3eae5db49e9becb36a112a15965"
      }
     },
     "metadata": {},
     "output_type": "display_data"
    },
    {
     "data": {
      "text/plain": [
       "(…)7.model.layers.5.self_attn.k_proj.weight:   0%|          | 0.00/67.1M [00:00<?, ?B/s]"
      ],
      "application/vnd.jupyter.widget-view+json": {
       "version_major": 2,
       "version_minor": 0,
       "model_id": "74ec92da93f245d98253e996dac82133"
      }
     },
     "metadata": {},
     "output_type": "display_data"
    },
    {
     "data": {
      "text/plain": [
       "(…)6.model.layers.5.self_attn.q_proj.weight:   0%|          | 0.00/67.1M [00:00<?, ?B/s]"
      ],
      "application/vnd.jupyter.widget-view+json": {
       "version_major": 2,
       "version_minor": 0,
       "model_id": "574e0eefb4fa4908b6974234bbb7fad6"
      }
     },
     "metadata": {},
     "output_type": "display_data"
    },
    {
     "data": {
      "text/plain": [
       "(…)8.model.layers.5.self_attn.v_proj.weight:   0%|          | 0.00/67.1M [00:00<?, ?B/s]"
      ],
      "application/vnd.jupyter.widget-view+json": {
       "version_major": 2,
       "version_minor": 0,
       "model_id": "1dc7f9962d8540618d33678165bc3c93"
      }
     },
     "metadata": {},
     "output_type": "display_data"
    },
    {
     "data": {
      "text/plain": [
       "(…)9.model.layers.5.self_attn.o_proj.weight:   0%|          | 0.00/67.1M [00:00<?, ?B/s]"
      ],
      "application/vnd.jupyter.widget-view+json": {
       "version_major": 2,
       "version_minor": 0,
       "model_id": "e62642755d3349929ee03d5299f91d18"
      }
     },
     "metadata": {},
     "output_type": "display_data"
    },
    {
     "data": {
      "text/plain": [
       "p5.model.layers.0.mlp.gate_proj.weight:   0%|          | 0.00/180M [00:00<?, ?B/s]"
      ],
      "application/vnd.jupyter.widget-view+json": {
       "version_major": 2,
       "version_minor": 0,
       "model_id": "ce272c15d2524c02a701e344157a1565"
      }
     },
     "metadata": {},
     "output_type": "display_data"
    },
    {
     "data": {
      "text/plain": [
       "p50.model.layers.5.mlp.gate_proj.weight:   0%|          | 0.00/180M [00:00<?, ?B/s]"
      ],
      "application/vnd.jupyter.widget-view+json": {
       "version_major": 2,
       "version_minor": 0,
       "model_id": "c0966ee089154961b9eb0ea763bde2e3"
      }
     },
     "metadata": {},
     "output_type": "display_data"
    },
    {
     "data": {
      "text/plain": [
       "p51.model.layers.5.mlp.up_proj.weight:   0%|          | 0.00/180M [00:00<?, ?B/s]"
      ],
      "application/vnd.jupyter.widget-view+json": {
       "version_major": 2,
       "version_minor": 0,
       "model_id": "7baeaa9a3de74809baedd81393e6409d"
      }
     },
     "metadata": {},
     "output_type": "display_data"
    },
    {
     "data": {
      "text/plain": [
       "p52.model.layers.5.mlp.down_proj.weight:   0%|          | 0.00/180M [00:00<?, ?B/s]"
      ],
      "application/vnd.jupyter.widget-view+json": {
       "version_major": 2,
       "version_minor": 0,
       "model_id": "b745a0ca26b841a0ad94a328ca547016"
      }
     },
     "metadata": {},
     "output_type": "display_data"
    },
    {
     "data": {
      "text/plain": [
       "(…)53.model.layers.5.input_layernorm.weight:   0%|          | 0.00/17.3k [00:00<?, ?B/s]"
      ],
      "application/vnd.jupyter.widget-view+json": {
       "version_major": 2,
       "version_minor": 0,
       "model_id": "9bf25ccb747c49f4ab30de85ecd55b32"
      }
     },
     "metadata": {},
     "output_type": "display_data"
    },
    {
     "data": {
      "text/plain": [
       "(…)layers.5.post_attention_layernorm.weight:   0%|          | 0.00/17.3k [00:00<?, ?B/s]"
      ],
      "application/vnd.jupyter.widget-view+json": {
       "version_major": 2,
       "version_minor": 0,
       "model_id": "c3ab70dc031b41ea8b3b59b22503ecac"
      }
     },
     "metadata": {},
     "output_type": "display_data"
    },
    {
     "data": {
      "text/plain": [
       "(…)6.model.layers.6.self_attn.k_proj.weight:   0%|          | 0.00/67.1M [00:00<?, ?B/s]"
      ],
      "application/vnd.jupyter.widget-view+json": {
       "version_major": 2,
       "version_minor": 0,
       "model_id": "db30b7220c3446909e73aafefa281d10"
      }
     },
     "metadata": {},
     "output_type": "display_data"
    },
    {
     "data": {
      "text/plain": [
       "(…)5.model.layers.6.self_attn.q_proj.weight:   0%|          | 0.00/67.1M [00:00<?, ?B/s]"
      ],
      "application/vnd.jupyter.widget-view+json": {
       "version_major": 2,
       "version_minor": 0,
       "model_id": "d7a04fba9eee4a56b8276f6ec6312b80"
      }
     },
     "metadata": {},
     "output_type": "display_data"
    },
    {
     "data": {
      "text/plain": [
       "(…)7.model.layers.6.self_attn.v_proj.weight:   0%|          | 0.00/67.1M [00:00<?, ?B/s]"
      ],
      "application/vnd.jupyter.widget-view+json": {
       "version_major": 2,
       "version_minor": 0,
       "model_id": "4840ceb3086c4e85b79457450cbb7736"
      }
     },
     "metadata": {},
     "output_type": "display_data"
    },
    {
     "data": {
      "text/plain": [
       "(…)8.model.layers.6.self_attn.o_proj.weight:   0%|          | 0.00/67.1M [00:00<?, ?B/s]"
      ],
      "application/vnd.jupyter.widget-view+json": {
       "version_major": 2,
       "version_minor": 0,
       "model_id": "13e53ac57188491ab58023d9843f105f"
      }
     },
     "metadata": {},
     "output_type": "display_data"
    },
    {
     "data": {
      "text/plain": [
       "p59.model.layers.6.mlp.gate_proj.weight:   0%|          | 0.00/180M [00:00<?, ?B/s]"
      ],
      "application/vnd.jupyter.widget-view+json": {
       "version_major": 2,
       "version_minor": 0,
       "model_id": "da76a666befa478ead66ac32bcc1f9ad"
      }
     },
     "metadata": {},
     "output_type": "display_data"
    },
    {
     "data": {
      "text/plain": [
       "p6.model.layers.0.mlp.up_proj.weight:   0%|          | 0.00/180M [00:00<?, ?B/s]"
      ],
      "application/vnd.jupyter.widget-view+json": {
       "version_major": 2,
       "version_minor": 0,
       "model_id": "989d27d0198a4f358da3fea635c41de2"
      }
     },
     "metadata": {},
     "output_type": "display_data"
    },
    {
     "data": {
      "text/plain": [
       "p60.model.layers.6.mlp.up_proj.weight:   0%|          | 0.00/180M [00:00<?, ?B/s]"
      ],
      "application/vnd.jupyter.widget-view+json": {
       "version_major": 2,
       "version_minor": 0,
       "model_id": "1d25d2366dd749abb52d1fc91a25474d"
      }
     },
     "metadata": {},
     "output_type": "display_data"
    },
    {
     "data": {
      "text/plain": [
       "p61.model.layers.6.mlp.down_proj.weight:   0%|          | 0.00/180M [00:00<?, ?B/s]"
      ],
      "application/vnd.jupyter.widget-view+json": {
       "version_major": 2,
       "version_minor": 0,
       "model_id": "ae730edaa77d43a19209a5a85b110fad"
      }
     },
     "metadata": {},
     "output_type": "display_data"
    },
    {
     "data": {
      "text/plain": [
       "(…)62.model.layers.6.input_layernorm.weight:   0%|          | 0.00/17.3k [00:00<?, ?B/s]"
      ],
      "application/vnd.jupyter.widget-view+json": {
       "version_major": 2,
       "version_minor": 0,
       "model_id": "f3eea84968b344eaa76f0014eda399dd"
      }
     },
     "metadata": {},
     "output_type": "display_data"
    },
    {
     "data": {
      "text/plain": [
       "(…)layers.6.post_attention_layernorm.weight:   0%|          | 0.00/17.3k [00:00<?, ?B/s]"
      ],
      "application/vnd.jupyter.widget-view+json": {
       "version_major": 2,
       "version_minor": 0,
       "model_id": "c5eaf0768c2a4bfea2582c782a349c59"
      }
     },
     "metadata": {},
     "output_type": "display_data"
    },
    {
     "data": {
      "text/plain": [
       "(…)4.model.layers.7.self_attn.q_proj.weight:   0%|          | 0.00/67.1M [00:00<?, ?B/s]"
      ],
      "application/vnd.jupyter.widget-view+json": {
       "version_major": 2,
       "version_minor": 0,
       "model_id": "5723684c1fa24249a8b0dea5514217ab"
      }
     },
     "metadata": {},
     "output_type": "display_data"
    },
    {
     "data": {
      "text/plain": [
       "(…)5.model.layers.7.self_attn.k_proj.weight:   0%|          | 0.00/67.1M [00:00<?, ?B/s]"
      ],
      "application/vnd.jupyter.widget-view+json": {
       "version_major": 2,
       "version_minor": 0,
       "model_id": "fe3089a07c42425b97cb7a728511bbb4"
      }
     },
     "metadata": {},
     "output_type": "display_data"
    },
    {
     "data": {
      "text/plain": [
       "(…)6.model.layers.7.self_attn.v_proj.weight:   0%|          | 0.00/67.1M [00:00<?, ?B/s]"
      ],
      "application/vnd.jupyter.widget-view+json": {
       "version_major": 2,
       "version_minor": 0,
       "model_id": "67ea26e676b0401aaca815dcf0205782"
      }
     },
     "metadata": {},
     "output_type": "display_data"
    },
    {
     "data": {
      "text/plain": [
       "(…)7.model.layers.7.self_attn.o_proj.weight:   0%|          | 0.00/67.1M [00:00<?, ?B/s]"
      ],
      "application/vnd.jupyter.widget-view+json": {
       "version_major": 2,
       "version_minor": 0,
       "model_id": "15e1c0f2997c4652a773381411c5f3ca"
      }
     },
     "metadata": {},
     "output_type": "display_data"
    },
    {
     "data": {
      "text/plain": [
       "p68.model.layers.7.mlp.gate_proj.weight:   0%|          | 0.00/180M [00:00<?, ?B/s]"
      ],
      "application/vnd.jupyter.widget-view+json": {
       "version_major": 2,
       "version_minor": 0,
       "model_id": "2b05b9bfe2ee482dbc77fff22fa674ed"
      }
     },
     "metadata": {},
     "output_type": "display_data"
    },
    {
     "data": {
      "text/plain": [
       "p69.model.layers.7.mlp.up_proj.weight:   0%|          | 0.00/180M [00:00<?, ?B/s]"
      ],
      "application/vnd.jupyter.widget-view+json": {
       "version_major": 2,
       "version_minor": 0,
       "model_id": "402e93dd33d543c99014a8940327f6e4"
      }
     },
     "metadata": {},
     "output_type": "display_data"
    },
    {
     "data": {
      "text/plain": [
       "p7.model.layers.0.mlp.down_proj.weight:   0%|          | 0.00/180M [00:00<?, ?B/s]"
      ],
      "application/vnd.jupyter.widget-view+json": {
       "version_major": 2,
       "version_minor": 0,
       "model_id": "2ca35e4333a049b5a32256d336e742da"
      }
     },
     "metadata": {},
     "output_type": "display_data"
    },
    {
     "data": {
      "text/plain": [
       "p70.model.layers.7.mlp.down_proj.weight:   0%|          | 0.00/180M [00:00<?, ?B/s]"
      ],
      "application/vnd.jupyter.widget-view+json": {
       "version_major": 2,
       "version_minor": 0,
       "model_id": "74a14d1e5fc0402cb41f0527ed226f81"
      }
     },
     "metadata": {},
     "output_type": "display_data"
    },
    {
     "data": {
      "text/plain": [
       "(…)71.model.layers.7.input_layernorm.weight:   0%|          | 0.00/17.3k [00:00<?, ?B/s]"
      ],
      "application/vnd.jupyter.widget-view+json": {
       "version_major": 2,
       "version_minor": 0,
       "model_id": "bd0692e3405549d880ffcf92f91cf9bb"
      }
     },
     "metadata": {},
     "output_type": "display_data"
    },
    {
     "data": {
      "text/plain": [
       "(…)layers.7.post_attention_layernorm.weight:   0%|          | 0.00/17.3k [00:00<?, ?B/s]"
      ],
      "application/vnd.jupyter.widget-view+json": {
       "version_major": 2,
       "version_minor": 0,
       "model_id": "c8dbe9dcd58148baaa1cffd46fc575aa"
      }
     },
     "metadata": {},
     "output_type": "display_data"
    },
    {
     "data": {
      "text/plain": [
       "(…)3.model.layers.8.self_attn.q_proj.weight:   0%|          | 0.00/67.1M [00:00<?, ?B/s]"
      ],
      "application/vnd.jupyter.widget-view+json": {
       "version_major": 2,
       "version_minor": 0,
       "model_id": "1970138edf1a4d4cabc7310abf827235"
      }
     },
     "metadata": {},
     "output_type": "display_data"
    },
    {
     "data": {
      "text/plain": [
       "(…)4.model.layers.8.self_attn.k_proj.weight:   0%|          | 0.00/67.1M [00:00<?, ?B/s]"
      ],
      "application/vnd.jupyter.widget-view+json": {
       "version_major": 2,
       "version_minor": 0,
       "model_id": "3e603ce5140a46b3865fae9c0b93566e"
      }
     },
     "metadata": {},
     "output_type": "display_data"
    },
    {
     "data": {
      "text/plain": [
       "(…)5.model.layers.8.self_attn.v_proj.weight:   0%|          | 0.00/67.1M [00:00<?, ?B/s]"
      ],
      "application/vnd.jupyter.widget-view+json": {
       "version_major": 2,
       "version_minor": 0,
       "model_id": "dd075eb7193248d0996e5f26797ca371"
      }
     },
     "metadata": {},
     "output_type": "display_data"
    },
    {
     "data": {
      "text/plain": [
       "(…)6.model.layers.8.self_attn.o_proj.weight:   0%|          | 0.00/67.1M [00:00<?, ?B/s]"
      ],
      "application/vnd.jupyter.widget-view+json": {
       "version_major": 2,
       "version_minor": 0,
       "model_id": "ec9fd57b908747eb88d02f1645f33abc"
      }
     },
     "metadata": {},
     "output_type": "display_data"
    },
    {
     "data": {
      "text/plain": [
       "p77.model.layers.8.mlp.gate_proj.weight:   0%|          | 0.00/180M [00:00<?, ?B/s]"
      ],
      "application/vnd.jupyter.widget-view+json": {
       "version_major": 2,
       "version_minor": 0,
       "model_id": "7f4832647aeb4f7fbc561c173e7a1a92"
      }
     },
     "metadata": {},
     "output_type": "display_data"
    },
    {
     "data": {
      "text/plain": [
       "p78.model.layers.8.mlp.up_proj.weight:   0%|          | 0.00/180M [00:00<?, ?B/s]"
      ],
      "application/vnd.jupyter.widget-view+json": {
       "version_major": 2,
       "version_minor": 0,
       "model_id": "16a3db6f43654f1abd9a61d2ee322335"
      }
     },
     "metadata": {},
     "output_type": "display_data"
    },
    {
     "data": {
      "text/plain": [
       "p79.model.layers.8.mlp.down_proj.weight:   0%|          | 0.00/180M [00:00<?, ?B/s]"
      ],
      "application/vnd.jupyter.widget-view+json": {
       "version_major": 2,
       "version_minor": 0,
       "model_id": "2860666852504634b0ab9d953de6ee81"
      }
     },
     "metadata": {},
     "output_type": "display_data"
    },
    {
     "data": {
      "text/plain": [
       "p8.model.layers.0.input_layernorm.weight:   0%|          | 0.00/17.3k [00:00<?, ?B/s]"
      ],
      "application/vnd.jupyter.widget-view+json": {
       "version_major": 2,
       "version_minor": 0,
       "model_id": "1aa429a12166442b905d41c3daff06cb"
      }
     },
     "metadata": {},
     "output_type": "display_data"
    },
    {
     "data": {
      "text/plain": [
       "(…)layers.8.post_attention_layernorm.weight:   0%|          | 0.00/17.3k [00:00<?, ?B/s]"
      ],
      "application/vnd.jupyter.widget-view+json": {
       "version_major": 2,
       "version_minor": 0,
       "model_id": "ad032da573844a66a6bb441c06a3d023"
      }
     },
     "metadata": {},
     "output_type": "display_data"
    },
    {
     "data": {
      "text/plain": [
       "(…)80.model.layers.8.input_layernorm.weight:   0%|          | 0.00/17.3k [00:00<?, ?B/s]"
      ],
      "application/vnd.jupyter.widget-view+json": {
       "version_major": 2,
       "version_minor": 0,
       "model_id": "b15d13ee2a4c4a3f9347d1e06453a4d1"
      }
     },
     "metadata": {},
     "output_type": "display_data"
    },
    {
     "data": {
      "text/plain": [
       "(…)2.model.layers.9.self_attn.q_proj.weight:   0%|          | 0.00/67.1M [00:00<?, ?B/s]"
      ],
      "application/vnd.jupyter.widget-view+json": {
       "version_major": 2,
       "version_minor": 0,
       "model_id": "3b542f86f0d348fd80cb625b93a439b4"
      }
     },
     "metadata": {},
     "output_type": "display_data"
    },
    {
     "data": {
      "text/plain": [
       "(…)3.model.layers.9.self_attn.k_proj.weight:   0%|          | 0.00/67.1M [00:00<?, ?B/s]"
      ],
      "application/vnd.jupyter.widget-view+json": {
       "version_major": 2,
       "version_minor": 0,
       "model_id": "57d19beb3fb045cfa430a6f1b89663d2"
      }
     },
     "metadata": {},
     "output_type": "display_data"
    },
    {
     "data": {
      "text/plain": [
       "(…)4.model.layers.9.self_attn.v_proj.weight:   0%|          | 0.00/67.1M [00:00<?, ?B/s]"
      ],
      "application/vnd.jupyter.widget-view+json": {
       "version_major": 2,
       "version_minor": 0,
       "model_id": "fe2cbbca341a44b3b29e2632c9cb865d"
      }
     },
     "metadata": {},
     "output_type": "display_data"
    },
    {
     "data": {
      "text/plain": [
       "(…)5.model.layers.9.self_attn.o_proj.weight:   0%|          | 0.00/67.1M [00:00<?, ?B/s]"
      ],
      "application/vnd.jupyter.widget-view+json": {
       "version_major": 2,
       "version_minor": 0,
       "model_id": "9f287b638be54114a0ca53bd5a43a5d1"
      }
     },
     "metadata": {},
     "output_type": "display_data"
    },
    {
     "data": {
      "text/plain": [
       "p86.model.layers.9.mlp.gate_proj.weight:   0%|          | 0.00/180M [00:00<?, ?B/s]"
      ],
      "application/vnd.jupyter.widget-view+json": {
       "version_major": 2,
       "version_minor": 0,
       "model_id": "22210ff7f0c640c1abac79ea5a1700ba"
      }
     },
     "metadata": {},
     "output_type": "display_data"
    },
    {
     "data": {
      "text/plain": [
       "p87.model.layers.9.mlp.up_proj.weight:   0%|          | 0.00/180M [00:00<?, ?B/s]"
      ],
      "application/vnd.jupyter.widget-view+json": {
       "version_major": 2,
       "version_minor": 0,
       "model_id": "f1b5f09eb7a0451db9c54f0f0577fd27"
      }
     },
     "metadata": {},
     "output_type": "display_data"
    },
    {
     "data": {
      "text/plain": [
       "p88.model.layers.9.mlp.down_proj.weight:   0%|          | 0.00/180M [00:00<?, ?B/s]"
      ],
      "application/vnd.jupyter.widget-view+json": {
       "version_major": 2,
       "version_minor": 0,
       "model_id": "45675d00d1314d7e99e8e9d8d551f340"
      }
     },
     "metadata": {},
     "output_type": "display_data"
    },
    {
     "data": {
      "text/plain": [
       "(…)89.model.layers.9.input_layernorm.weight:   0%|          | 0.00/17.3k [00:00<?, ?B/s]"
      ],
      "application/vnd.jupyter.widget-view+json": {
       "version_major": 2,
       "version_minor": 0,
       "model_id": "c09ab3dc43b84862b26e8228c75cebcb"
      }
     },
     "metadata": {},
     "output_type": "display_data"
    },
    {
     "data": {
      "text/plain": [
       "(…)layers.0.post_attention_layernorm.weight:   0%|          | 0.00/17.3k [00:00<?, ?B/s]"
      ],
      "application/vnd.jupyter.widget-view+json": {
       "version_major": 2,
       "version_minor": 0,
       "model_id": "9c2f071659db4294bc7c9019de2de848"
      }
     },
     "metadata": {},
     "output_type": "display_data"
    },
    {
     "data": {
      "text/plain": [
       "(…)layers.9.post_attention_layernorm.weight:   0%|          | 0.00/17.3k [00:00<?, ?B/s]"
      ],
      "application/vnd.jupyter.widget-view+json": {
       "version_major": 2,
       "version_minor": 0,
       "model_id": "20cde47fcbc14716a3c115dcffd780e9"
      }
     },
     "metadata": {},
     "output_type": "display_data"
    },
    {
     "data": {
      "text/plain": [
       "(…).model.layers.10.self_attn.q_proj.weight:   0%|          | 0.00/67.1M [00:00<?, ?B/s]"
      ],
      "application/vnd.jupyter.widget-view+json": {
       "version_major": 2,
       "version_minor": 0,
       "model_id": "f6cbd769998e43a690c5d09254e024d5"
      }
     },
     "metadata": {},
     "output_type": "display_data"
    },
    {
     "data": {
      "text/plain": [
       "(…).model.layers.10.self_attn.k_proj.weight:   0%|          | 0.00/67.1M [00:00<?, ?B/s]"
      ],
      "application/vnd.jupyter.widget-view+json": {
       "version_major": 2,
       "version_minor": 0,
       "model_id": "fc5741b3231e41a09584af25ceb55956"
      }
     },
     "metadata": {},
     "output_type": "display_data"
    },
    {
     "data": {
      "text/plain": [
       "(…).model.layers.10.self_attn.v_proj.weight:   0%|          | 0.00/67.1M [00:00<?, ?B/s]"
      ],
      "application/vnd.jupyter.widget-view+json": {
       "version_major": 2,
       "version_minor": 0,
       "model_id": "2328cf4a88d94e69bcc4872818192ee4"
      }
     },
     "metadata": {},
     "output_type": "display_data"
    },
    {
     "data": {
      "text/plain": [
       "(…).model.layers.10.self_attn.o_proj.weight:   0%|          | 0.00/67.1M [00:00<?, ?B/s]"
      ],
      "application/vnd.jupyter.widget-view+json": {
       "version_major": 2,
       "version_minor": 0,
       "model_id": "048d6cdec3274126a548a0c625d55d0d"
      }
     },
     "metadata": {},
     "output_type": "display_data"
    },
    {
     "data": {
      "text/plain": [
       "p95.model.layers.10.mlp.gate_proj.weight:   0%|          | 0.00/180M [00:00<?, ?B/s]"
      ],
      "application/vnd.jupyter.widget-view+json": {
       "version_major": 2,
       "version_minor": 0,
       "model_id": "7808895db41342f282c7171d7ff9c456"
      }
     },
     "metadata": {},
     "output_type": "display_data"
    },
    {
     "data": {
      "text/plain": [
       "p96.model.layers.10.mlp.up_proj.weight:   0%|          | 0.00/180M [00:00<?, ?B/s]"
      ],
      "application/vnd.jupyter.widget-view+json": {
       "version_major": 2,
       "version_minor": 0,
       "model_id": "89b63c894efb44f085ccf7eb2f92b954"
      }
     },
     "metadata": {},
     "output_type": "display_data"
    },
    {
     "data": {
      "text/plain": [
       "p97.model.layers.10.mlp.down_proj.weight:   0%|          | 0.00/180M [00:00<?, ?B/s]"
      ],
      "application/vnd.jupyter.widget-view+json": {
       "version_major": 2,
       "version_minor": 0,
       "model_id": "6675e2771ad14a14b1e81649873cb776"
      }
     },
     "metadata": {},
     "output_type": "display_data"
    },
    {
     "data": {
      "text/plain": [
       "(…)8.model.layers.10.input_layernorm.weight:   0%|          | 0.00/17.3k [00:00<?, ?B/s]"
      ],
      "application/vnd.jupyter.widget-view+json": {
       "version_major": 2,
       "version_minor": 0,
       "model_id": "dc1061265f40446e8ec5b02c1afde1f1"
      }
     },
     "metadata": {},
     "output_type": "display_data"
    },
    {
     "data": {
      "text/plain": [
       "(…)ayers.10.post_attention_layernorm.weight:   0%|          | 0.00/17.3k [00:00<?, ?B/s]"
      ],
      "application/vnd.jupyter.widget-view+json": {
       "version_major": 2,
       "version_minor": 0,
       "model_id": "c7f7db6e9c784fc0b47c127371fbccc3"
      }
     },
     "metadata": {},
     "output_type": "display_data"
    },
    {
     "data": {
      "text/plain": [
       "1c6e36d0d5796051065c.neff:   0%|          | 0.00/13.0M [00:00<?, ?B/s]"
      ],
      "application/vnd.jupyter.widget-view+json": {
       "version_major": 2,
       "version_minor": 0,
       "model_id": "0c4cbe8ad5c340be823123cec027720a"
      }
     },
     "metadata": {},
     "output_type": "display_data"
    },
    {
     "data": {
      "text/plain": [
       "26cdfbccf8b7833faa74.neff:   0%|          | 0.00/15.4M [00:00<?, ?B/s]"
      ],
      "application/vnd.jupyter.widget-view+json": {
       "version_major": 2,
       "version_minor": 0,
       "model_id": "ac0d27a9ba3f4a61bf83cf3084167b6f"
      }
     },
     "metadata": {},
     "output_type": "display_data"
    },
    {
     "data": {
      "text/plain": [
       "3ef9d8c20806bef06b4d.neff:   0%|          | 0.00/13.6M [00:00<?, ?B/s]"
      ],
      "application/vnd.jupyter.widget-view+json": {
       "version_major": 2,
       "version_minor": 0,
       "model_id": "7c7a730574d2423fa43cdd4158ca8550"
      }
     },
     "metadata": {},
     "output_type": "display_data"
    },
    {
     "data": {
      "text/plain": [
       "6324371075073ff6a857.neff:   0%|          | 0.00/30.8M [00:00<?, ?B/s]"
      ],
      "application/vnd.jupyter.widget-view+json": {
       "version_major": 2,
       "version_minor": 0,
       "model_id": "28fdb7ea794b4f29ad34ef2f7e7f0191"
      }
     },
     "metadata": {},
     "output_type": "display_data"
    },
    {
     "data": {
      "text/plain": [
       "9211a90384dc84e569cb.neff:   0%|          | 0.00/87.5M [00:00<?, ?B/s]"
      ],
      "application/vnd.jupyter.widget-view+json": {
       "version_major": 2,
       "version_minor": 0,
       "model_id": "4a4f22c7476743a48bdbb9d23eef13c1"
      }
     },
     "metadata": {},
     "output_type": "display_data"
    },
    {
     "data": {
      "text/plain": [
       "8a2a1ebf099550ef352d.neff:   0%|          | 0.00/14.8M [00:00<?, ?B/s]"
      ],
      "application/vnd.jupyter.widget-view+json": {
       "version_major": 2,
       "version_minor": 0,
       "model_id": "895e3b296a424c64bf4b0d3229b8dd38"
      }
     },
     "metadata": {},
     "output_type": "display_data"
    },
    {
     "data": {
      "text/plain": [
       "bb1ca8089c1e13b231bc.neff:   0%|          | 0.00/13.3M [00:00<?, ?B/s]"
      ],
      "application/vnd.jupyter.widget-view+json": {
       "version_major": 2,
       "version_minor": 0,
       "model_id": "faa0867efcd44de68981369d658e279a"
      }
     },
     "metadata": {},
     "output_type": "display_data"
    },
    {
     "data": {
      "text/plain": [
       "c00400d9ceb66f7d3da0.neff:   0%|          | 0.00/14.2M [00:00<?, ?B/s]"
      ],
      "application/vnd.jupyter.widget-view+json": {
       "version_major": 2,
       "version_minor": 0,
       "model_id": "ce9817b20d49433bbabd8736559b0447"
      }
     },
     "metadata": {},
     "output_type": "display_data"
    },
    {
     "data": {
      "text/plain": [
       "c76fea07b360e7352995.neff:   0%|          | 0.00/19.5M [00:00<?, ?B/s]"
      ],
      "application/vnd.jupyter.widget-view+json": {
       "version_major": 2,
       "version_minor": 0,
       "model_id": "0fdec2adae66478b892499f5b1ed069c"
      }
     },
     "metadata": {},
     "output_type": "display_data"
    },
    {
     "data": {
      "text/plain": [
       "e84271332d576c61d616.neff:   0%|          | 0.00/13.6M [00:00<?, ?B/s]"
      ],
      "application/vnd.jupyter.widget-view+json": {
       "version_major": 2,
       "version_minor": 0,
       "model_id": "04fb1c4925e1430cbeb22020e764b09e"
      }
     },
     "metadata": {},
     "output_type": "display_data"
    },
    {
     "data": {
      "text/plain": [
       "config.json:   0%|          | 0.00/892 [00:00<?, ?B/s]"
      ],
      "application/vnd.jupyter.widget-view+json": {
       "version_major": 2,
       "version_minor": 0,
       "model_id": "87d940fca1e04f26820d786db74082e4"
      }
     },
     "metadata": {},
     "output_type": "display_data"
    },
    {
     "data": {
      "text/plain": [
       "generation_config.json:   0%|          | 0.00/183 [00:00<?, ?B/s]"
      ],
      "application/vnd.jupyter.widget-view+json": {
       "version_major": 2,
       "version_minor": 0,
       "model_id": "d17071db7e6b4864a32fb0d28ffb6dae"
      }
     },
     "metadata": {},
     "output_type": "display_data"
    },
    {
     "data": {
      "text/plain": [
       "special_tokens_map.json:   0%|          | 0.00/414 [00:00<?, ?B/s]"
      ],
      "application/vnd.jupyter.widget-view+json": {
       "version_major": 2,
       "version_minor": 0,
       "model_id": "423770250cdc45c692ca051cdba9f3ae"
      }
     },
     "metadata": {},
     "output_type": "display_data"
    },
    {
     "data": {
      "text/plain": [
       "tokenizer.json:   0%|          | 0.00/1.84M [00:00<?, ?B/s]"
      ],
      "application/vnd.jupyter.widget-view+json": {
       "version_major": 2,
       "version_minor": 0,
       "model_id": "3b710e5040194fb58bf442f52b19c14a"
      }
     },
     "metadata": {},
     "output_type": "display_data"
    },
    {
     "data": {
      "text/plain": [
       "tokenizer.model:   0%|          | 0.00/500k [00:00<?, ?B/s]"
      ],
      "application/vnd.jupyter.widget-view+json": {
       "version_major": 2,
       "version_minor": 0,
       "model_id": "9e43e57ff23842c2837d10bfcc25dd56"
      }
     },
     "metadata": {},
     "output_type": "display_data"
    },
    {
     "data": {
      "text/plain": [
       "tokenizer_config.json:   0%|          | 0.00/1.71k [00:00<?, ?B/s]"
      ],
      "application/vnd.jupyter.widget-view+json": {
       "version_major": 2,
       "version_minor": 0,
       "model_id": "1fed13223c0c46319576902d927f71fb"
      }
     },
     "metadata": {},
     "output_type": "display_data"
    },
    {
     "data": {
      "text/plain": [
       "'/home/vkorolik/work/highlight/scripts/model'"
      ]
     },
     "execution_count": 44,
     "metadata": {},
     "output_type": "execute_result"
    }
   ],
   "execution_count": 44
  },
  {
   "metadata": {
    "ExecuteTime": {
     "end_time": "2024-02-08T02:44:59.838552Z",
     "start_time": "2024-02-08T02:44:57.183224Z"
    }
   },
   "cell_type": "code",
   "id": "eb4a67f953a4354b",
   "source": [
    "import sagemaker\n",
    "import boto3\n",
    "\n",
    "sess = sagemaker.Session()\n",
    "# sagemaker session bucket -> used for uploading data, models and logs\n",
    "# sagemaker will automatically create this bucket if it not exists\n",
    "sagemaker_session_bucket = None\n",
    "if sagemaker_session_bucket is None and sess is not None:\n",
    "    # set to default bucket if a bucket name is not given\n",
    "    sagemaker_session_bucket = sess.default_bucket()\n",
    "\n",
    "role = 'arn:aws:iam::173971919437:role/service-role/AmazonSageMaker-ExecutionRole-20230816T172535'\n",
    "sess = sagemaker.Session(default_bucket=sagemaker_session_bucket)\n",
    "\n",
    "print(f\"sagemaker role arn: {role}\")\n",
    "print(f\"sagemaker bucket: {sess.default_bucket()}\")\n",
    "print(f\"sagemaker session region: {sess.boto_region_name}\")\n",
    "assert sess.boto_region_name in [\"us-east-2\",\n",
    "                                 \"us-east-1\"], \"region must be us-east-2 or us-west-2, due to instance availability\""
   ],
   "outputs": [
    {
     "name": "stdout",
     "output_type": "stream",
     "text": [
      "sagemaker role arn: arn:aws:iam::173971919437:role/service-role/AmazonSageMaker-ExecutionRole-20230816T172535\n",
      "sagemaker bucket: sagemaker-us-east-2-173971919437\n",
      "sagemaker session region: us-east-2\n"
     ]
    }
   ],
   "execution_count": 45
  },
  {
   "metadata": {
    "ExecuteTime": {
     "end_time": "2024-02-08T02:44:59.999736Z",
     "start_time": "2024-02-08T02:44:59.839721Z"
    }
   },
   "cell_type": "code",
   "source": [
    "# create code directory in our model directory\n",
    "!mkdir {save_directory}/code"
   ],
   "id": "d7e560490892302a",
   "outputs": [],
   "execution_count": 46
  },
  {
   "metadata": {
    "ExecuteTime": {
     "end_time": "2024-02-08T02:45:00.005639Z",
     "start_time": "2024-02-08T02:45:00.002007Z"
    }
   },
   "cell_type": "code",
   "source": [
    "%%writefile {save_directory}/code/requirements.txt\n",
    "jinja2 >= \"3.0.0\""
   ],
   "id": "f4a441211848e685",
   "outputs": [
    {
     "name": "stdout",
     "output_type": "stream",
     "text": [
      "Writing model/code/requirements.txt\n"
     ]
    }
   ],
   "execution_count": 47
  },
  {
   "metadata": {
    "ExecuteTime": {
     "end_time": "2024-02-08T02:52:56.413282Z",
     "start_time": "2024-02-08T02:52:56.408805Z"
    }
   },
   "cell_type": "code",
   "source": [
    "%%writefile {save_directory}/code/inference.py\n",
    "import os\n",
    "\n",
    "# To use two neuron core per worker\n",
    "os.environ[\"NEURON_RT_NUM_CORES\"] = \"2\"\n",
    "import torch\n",
    "import torch_neuronx\n",
    "import base64\n",
    "from io import BytesIO\n",
    "from optimum.neuron import pipeline\n",
    "\n",
    "\n",
    "def model_fn(model_dir):\n",
    "    # load local converted model and tokenizer\n",
    "    print(\"loading pipeline...\")\n",
    "    pipe = pipeline(\"text-generation\", model_dir)\n",
    "    print(\"loading complete\")\n",
    "    return pipe\n",
    "\n",
    "\n",
    "def predict_fn(data, pipe):\n",
    "    # extract prompt from data\n",
    "    messages = data.pop(\"inputs\", data)\n",
    "    parameters = data.pop(\"parameters\", None)\n",
    "\n",
    "    # convert messages to input ids\n",
    "    inputs = pipe.tokenizer.apply_chat_template(messages, add_generation_prompt=True, tokenize=False)\n",
    "    # run generation\n",
    "    if parameters is not None:\n",
    "        outputs = pipe(inputs, **parameters)[0]\n",
    "    else:\n",
    "        outputs = pipe(inputs)[0]\n",
    "\n",
    "    # decode generation\n",
    "    return {\"generation\": outputs[\"generated_text\"][len(inputs):].strip()}\n"
   ],
   "id": "4bd119d00af65f18",
   "outputs": [
    {
     "name": "stdout",
     "output_type": "stream",
     "text": [
      "Writing model/code/inference.py\n"
     ]
    }
   ],
   "execution_count": 48
  },
  {
   "metadata": {
    "ExecuteTime": {
     "end_time": "2024-02-08T02:56:11.786074Z",
     "start_time": "2024-02-08T02:53:00.058160Z"
    }
   },
   "cell_type": "code",
   "id": "fe23b6b6715ff527",
   "source": [
    "# create a model.tar.gz archive with all the model artifacts and the inference.py script.\n",
    "%cd {save_directory}\n",
    "!tar -cf model.tar.gz --use-compress-program=pigz *\n",
    "%cd .."
   ],
   "outputs": [
    {
     "name": "stdout",
     "output_type": "stream",
     "text": [
      "/home/vkorolik/work/highlight/scripts/model\n",
      "/home/vkorolik/work/highlight/scripts\n"
     ]
    }
   ],
   "execution_count": 49
  },
  {
   "metadata": {
    "ExecuteTime": {
     "end_time": "2024-02-08T03:11:47.599192Z",
     "start_time": "2024-02-08T02:56:11.787817Z"
    }
   },
   "cell_type": "code",
   "id": "39ca6b28ca974a9d",
   "source": [
    "from sagemaker.s3 import S3Uploader\n",
    "\n",
    "# create s3 uri\n",
    "s3_model_path = f\"s3://{sess.default_bucket()}/neuronx/vadim\"\n",
    "\n",
    "# upload model.tar.gz\n",
    "s3_model_uri = S3Uploader.upload(local_path=f\"{save_directory}/model.tar.gz\", desired_s3_uri=s3_model_path)\n",
    "print(f\"model artifcats uploaded to {s3_model_uri}\")"
   ],
   "outputs": [
    {
     "name": "stdout",
     "output_type": "stream",
     "text": [
      "model artifcats uploaded to s3://sagemaker-us-east-2-173971919437/neuronx/vadim/model.tar.gz\n"
     ]
    }
   ],
   "execution_count": 50
  },
  {
   "metadata": {
    "ExecuteTime": {
     "end_time": "2024-02-08T03:39:25.607821Z",
     "start_time": "2024-02-08T03:31:49.564876Z"
    }
   },
   "cell_type": "code",
   "id": "e1ceb0d4d01cb38e",
   "source": [
    "import time\n",
    "from sagemaker.huggingface.model import HuggingFaceModel\n",
    "\n",
    "# create Hugging Face Model Class\n",
    "huggingface_model = HuggingFaceModel(\n",
    "    model_data=s3_model_uri,  # path to your model.tar.gz on s3\n",
    "    role=role,  # iam role with permissions to create an Endpoint\n",
    "    image_uri=\"763104351884.dkr.ecr.us-east-2.amazonaws.com/huggingface-pytorch-inference-neuronx:1.13.1-transformers4.34.1-neuronx-py310-sdk2.15.0-ubuntu20.04\",\n",
    "    # transformers_version=\"4.34.1\",  # transformers version used\n",
    "    # pytorch_version=\"1.13.1\",  # pytorch version used\n",
    "    # py_version='py310',  # python version used\n",
    "    model_server_workers=1,  # number of workers for the model server\n",
    ")\n",
    "\n",
    "# deploy the endpoint endpoint\n",
    "predictor = huggingface_model.deploy(\n",
    "    initial_instance_count=1,  # number of instances\n",
    "    instance_type=\"ml.inf2.8xlarge\",  # AWS Inferentia Instance\n",
    ")\n",
    "# ignore the \"Your model is not compiled. Please compile your model before using Inferentia.\" warning, we already compiled our model.\n",
    "# We need to sent a warmup request to the endpoint, which loads the model on the neuron device\n",
    "# this takes around 2 minutes\n",
    "print(\"send warmup request\")\n",
    "try:\n",
    "    predictor.predict({\"inputs\": [{\"role\": \"user\", \"content\": \"warmup\"}]})\n",
    "except:\n",
    "    time.sleep(90)\n"
   ],
   "outputs": [
    {
     "name": "stderr",
     "output_type": "stream",
     "text": [
      "Your model is not compiled. Please compile your model before using Inferentia.\n"
     ]
    },
    {
     "name": "stdout",
     "output_type": "stream",
     "text": [
      "---------!send warmup request\n"
     ]
    }
   ],
   "execution_count": 52
  },
  {
   "metadata": {
    "ExecuteTime": {
     "end_time": "2024-02-08T03:50:46.069258Z",
     "start_time": "2024-02-08T03:50:19.003366Z"
    }
   },
   "cell_type": "code",
   "id": "92855cc8b2b0f081",
   "source": [
    "# OpenAI like conversational messages\n",
    "messages = [\n",
    "    {\n",
    "        \"role\": \"system\",\n",
    "        \"content\": \"You are a friendly chatbot who always responds in the style of a pirate\",\n",
    "    },\n",
    "    {\"role\": \"user\", \"content\": \"How many helicopters can a human eat in one sitting?\"},\n",
    "]\n",
    "messages = [\n",
    "    {\n",
    "        \"role\": \"system\",\n",
    "        \"content\": \"You are a marketing expert at an observability company tasked with creating blog posts to help with site SEO and overall traffic.\",\n",
    "    },\n",
    "    {\n",
    "        \"role\": \"user\",\n",
    "        \"content\": \"I'm working at an observability company that focuses on session replay, error monitoring, logging, and application tracing. \"\n",
    "                   \"I need help with creating tutorial blog posts that will drive traffic to our site. So far, we've had a few blog posts that generated a lot of traffic. \"\n",
    "                   \"The top performing key words on google search console for them are python logging library, nodejs logger, and golang log library. \"\n",
    "                   \"Can you come up with 5 more blog posts that may do well? For each one, come up with a title and a 1 sentence summary of the content.\"\n",
    "    },\n",
    "]\n",
    "\n",
    "# generation parameters\n",
    "parameters = {\n",
    "    \"do_sample\": True,\n",
    "    \"top_p\": 0.6,\n",
    "    \"temperature\": 0.9,\n",
    "    \"top_k\": 50,\n",
    "    \"max_new_tokens\": 2048,\n",
    "    \"repetition_penalty\": 1.03,\n",
    "}\n",
    "\n",
    "# run prediction\n",
    "response = predictor.predict({\n",
    "    \"inputs\": messages,\n",
    "    \"parameters\": parameters\n",
    "})\n",
    "\n",
    "# lets our response to the messages and print the generation\n",
    "messages.append({\"role\": \"assistant\", \"content\": response[\"generation\"]})\n",
    "\n",
    "\n",
    "# small helper function to print the messages\n",
    "def pretty_print(messages):\n",
    "    for message in messages:\n",
    "        print(f\"{message['role']}: {message['content']}\")\n",
    "\n",
    "\n",
    "pretty_print(messages)"
   ],
   "outputs": [
    {
     "name": "stdout",
     "output_type": "stream",
     "text": [
      "system: You are a marketing expert at an observability company tasked with creating blog posts to help with site SEO and overall traffic.\n",
      "user: I'm working at an observability company that focuses on session replay, error monitoring, logging, and application tracing. I need help with creating tutorial blog posts that will drive traffic to our site. So far, we've had a few blog posts that generated a lot of traffic. The top performing key words on google search console for them are python logging library, nodejs logger, and golang log library. Can you come up with 5 more blog posts that may do well? For each one, come up with a title and a 1 sentence summary of the content.\n",
      "assistant: Of course! I'd be happy to help you create more blog posts that can drive traffic to your observability company's website. Based on the top-performing keywords from Google Search Console, here are five potential blog post ideas along with their titles and summaries:\n",
      "\n",
      "1. \"Mastering Logging in Microservices Architecture: Best Practices and Tools\"\n",
      "Summary: In this post, we'll explore the unique challenges of logging in microservices architecture and provide best practices and recommendations for choosing the right logging tools.\n",
      "2. \"The Future of Logging: How AI and Machine Learning Are Revolutionizing Observability\"\n",
      "Summary: This post will examine the latest advancements in logging technology, including the use of AI and machine learning to automate log analysis, identify patterns, and improve overall observability.\n",
      "3. \"Logging for Security: How to Detect and Prevent Attacks with Log Data\"\n",
      "Summary: In this post, we'll discuss the importance of logging for security and provide practical tips and techniques for detecting and preventing security threats using log data.\n",
      "4. \"The Benefits of Centralized Logging: Why a Single Source of Truth Matters\"\n",
      "Summary: This post will highlight the advantages of centralized logging, including improved visibility, faster troubleshooting, and better compliance, and explain why a single source of truth is essential for effective observability.\n",
      "5. \"Logging for DevOps: How to Streamline Collaboration and Improve Deployment Speed\"\n",
      "Summary: In this post, we'll explore how logging can help DevOps teams streamline collaboration and improve deployment speed by providing a single source of truth for tracking issues and improving workflows.\n",
      "\n",
      "Each of these blog post ideas should appeal to a different segment of your target audience and help drive traffic to your website. By covering a range of topics and showcasing your expertise in the observability space, you can attract a wider audience and increase engagement with your brand. Good luck!\n"
     ]
    }
   ],
   "execution_count": 55
  },
  {
   "metadata": {
    "jupyter": {
     "is_executing": true
    },
    "ExecuteTime": {
     "start_time": "2024-02-08T05:39:55.668597Z"
    }
   },
   "cell_type": "code",
   "id": "73fb77d8aff2ace4",
   "source": [
    "# add follow up question\n",
    "messages.append({\"role\": \"user\", \"content\": \"can you help write the full blog post (about 2500 words) for the 4nd topic idea you had? please include code snippets when relevant. \"})\n",
    "\n",
    "# run prediction\n",
    "response = predictor.predict({\n",
    "    \"inputs\": messages,\n",
    "    \"parameters\": parameters\n",
    "})\n",
    "\n",
    "# lets our response to the messages and print the generation\n",
    "messages.append({\"role\": \"assistant\", \"content\": response[\"generation\"]})\n",
    "pretty_print(messages)"
   ],
   "outputs": []
  }
 ],
 "metadata": {
  "kernelspec": {
   "display_name": "Python 3",
   "language": "python",
   "name": "python3"
  },
  "language_info": {
   "codemirror_mode": {
    "name": "ipython",
    "version": 2
   },
   "file_extension": ".py",
   "mimetype": "text/x-python",
   "name": "python",
   "nbconvert_exporter": "python",
   "pygments_lexer": "ipython2",
   "version": "2.7.6"
  }
 },
 "nbformat": 4,
 "nbformat_minor": 5
}
